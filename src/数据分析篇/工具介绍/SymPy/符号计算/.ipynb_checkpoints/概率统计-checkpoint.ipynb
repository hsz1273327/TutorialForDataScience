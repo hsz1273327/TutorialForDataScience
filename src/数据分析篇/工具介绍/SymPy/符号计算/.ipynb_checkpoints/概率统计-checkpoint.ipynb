{
 "cells": [
  {
   "cell_type": "markdown",
   "metadata": {},
   "source": [
    "# 概率统计\n",
    "\n",
    "SymPy也支持概率统计的符号运算.它需要导入子模块`sympy.stats`"
   ]
  },
  {
   "cell_type": "code",
   "execution_count": 1,
   "metadata": {},
   "outputs": [],
   "source": [
    "from sympy import init_printing\n",
    "init_printing(use_unicode=True)"
   ]
  },
  {
   "cell_type": "markdown",
   "metadata": {},
   "source": [
    "## 分布的类型\n",
    "\n",
    "\n",
    "统计模块建立在分布之上,SymPy支持的分布有:\n",
    "\n",
    "> 有限分布\n",
    "\n",
    "分布|对应类\n",
    "---|---\n",
    "均匀分布|DiscreteUniform\n",
    "正态分布|Normal\n",
    "指数分布|Exponential\n",
    "投硬币概率分布|Coin\n",
    "二项分布|Binomial\n",
    "等概分布|Die\n",
    "伯努利分布|Bernoulli\n",
    "超几何分布|Hypergeometric\n",
    "Rademacher分布|Rademacher\n",
    "\n",
    "\n",
    "> 离散分布\n",
    "\n",
    "分布|对应类\n",
    "---|---\n",
    "几何分布|Geometric\n",
    "泊松分布|Poisson\n",
    "对数分布|Logarithmic\n",
    "负二项分布|NegativeBinomial\n",
    "Yule-Simon分布|YuleSimon\n",
    "Zeta分布|Zeta\n",
    "\n",
    "> 连续分布\n",
    "\n",
    "分布|对应类\n",
    "---|---\n",
    "反正弦分布|Arcsin\n",
    "Benini分布|Benini\n",
    "Beta分布|Beta\n",
    "Beta素数分布|BetaPrime\n",
    "Cauchy分布|Cauchy\n",
    "卡分布|Chi\n",
    "去中心卡分布|ChiNoncentral\n",
    "卡方分布|ChiSquared\n",
    "Dagum分布|Dagum\n",
    "Erlang分布|Erlang\n",
    "指数分布|Exponential\n",
    "F分布|FDistribution\n",
    "费舍尔Z分布|FisherZ\n",
    "Frechet分布|Frechet\n",
    "Gamma分布|Gamma\n",
    "逆Gamma分布|GammaInverse\n",
    "Kumaraswamy分布|Kumaraswamy\n",
    "拉普拉斯分布|Laplace\n",
    "Logistic分布|Logistic\n",
    "对数正态分布|LogNormal\n",
    "Maxwell分布|Maxwell\n",
    "Nakagami分布|Nakagami\n",
    "正态分布|Normal\n",
    "Pareto分布|Pareto\n",
    "二次U分布|QuadraticU\n",
    "升余弦分布|RaisedCosine\n",
    "Rayleigh分布|Rayleigh\n",
    "T分布|StudentT\n",
    "三角分布|Triangular\n",
    "均匀分布|Uniform\n",
    "Irwin-Hall分布|UniformSum\n",
    "VonMises分布|VonMises\n",
    "Weibull分布|Weibull\n",
    "维格纳半圆分布|WignerSemicircle\n",
    "\n",
    "\n",
    "使用这些这些分布类可以实例化出对应分布的随机变量"
   ]
  },
  {
   "cell_type": "code",
   "execution_count": 2,
   "metadata": {},
   "outputs": [],
   "source": [
    "from sympy.stats import Die,Normal"
   ]
  },
  {
   "cell_type": "code",
   "execution_count": 3,
   "metadata": {},
   "outputs": [],
   "source": [
    "X, Y = Die('X', 6), Die('Y', 6) # 等概分布\n",
    "Z = Normal('Z', 0, 1) # 正态分布"
   ]
  },
  {
   "cell_type": "code",
   "execution_count": 4,
   "metadata": {},
   "outputs": [
    {
     "data": {
      "image/png": "[encoded data removed]",
      "text/latex": [
       "$\\displaystyle X$"
      ],
      "text/plain": [
       "X"
      ]
     },
     "execution_count": 4,
     "metadata": {},
     "output_type": "execute_result"
    }
   ],
   "source": [
    "X"
   ]
  },
  {
   "cell_type": "code",
   "execution_count": 5,
   "metadata": {},
   "outputs": [
    {
     "data": {
      "image/png": "[encoded data removed]",
      "text/latex": [
       "$\\displaystyle Y$"
      ],
      "text/plain": [
       "Y"
      ]
     },
     "execution_count": 5,
     "metadata": {},
     "output_type": "execute_result"
    }
   ],
   "source": [
    "Y"
   ]
  },
  {
   "cell_type": "code",
   "execution_count": 6,
   "metadata": {},
   "outputs": [
    {
     "data": {
      "image/png": "[encoded data removed]",
      "text/latex": [
       "$\\displaystyle Z$"
      ],
      "text/plain": [
       "Z"
      ]
     },
     "execution_count": 6,
     "metadata": {},
     "output_type": "execute_result"
    }
   ],
   "source": [
    "Z"
   ]
  },
  {
   "cell_type": "markdown",
   "metadata": {},
   "source": [
    "### 自定义分布\n",
    "\n",
    "有限分布中有`FiniteRV(name, density)`类可以自定义概率;连续分布中有`ContinuousRV(symbol, density, set=Interval(-oo, oo))`类可以自定义随机变量的分布规则.他们都需要一个名字和一个分布密度作为参数."
   ]
  },
  {
   "cell_type": "code",
   "execution_count": 7,
   "metadata": {},
   "outputs": [
    {
     "data": {
      "image/png": "[encoded data removed]",
      "text/latex": [
       "$\\displaystyle X_{finite}$"
      ],
      "text/plain": [
       "X_finite"
      ]
     },
     "execution_count": 7,
     "metadata": {},
     "output_type": "execute_result"
    }
   ],
   "source": [
    "from sympy.stats import FiniteRV\n",
    "\n",
    "density = {0: .1, 1: .2, 2: .3, 3: .4}# 分布概率密度\n",
    "X_finite = FiniteRV('X_finite', density)\n",
    "X_finite"
   ]
  },
  {
   "cell_type": "code",
   "execution_count": 8,
   "metadata": {},
   "outputs": [
    {
     "data": {
      "image/png": "[encoded data removed]",
      "text/latex": [
       "$\\displaystyle \\frac{\\sqrt{2} e^{- \\frac{x^{2}}{2}}}{2 \\sqrt{\\pi}}$"
      ],
      "text/plain": [
       "      2 \n",
       "    -x  \n",
       "    ────\n",
       "     2  \n",
       "√2⋅ℯ    \n",
       "────────\n",
       "  2⋅√π  "
      ]
     },
     "execution_count": 8,
     "metadata": {},
     "output_type": "execute_result"
    }
   ],
   "source": [
    "from sympy.stats import ContinuousRV\n",
    "from sympy import sqrt, exp, pi,Symbol\n",
    "x = Symbol(\"x\")\n",
    "X_continuous = Symbol(\"X_continuous\")\n",
    "pdf = sqrt(2)*exp(-x**2/2)/(2*sqrt(pi)) # 标准正态分布的概率密度函数\n",
    "pdf"
   ]
  },
  {
   "cell_type": "code",
   "execution_count": 9,
   "metadata": {},
   "outputs": [],
   "source": [
    "X_continuous = ContinuousRV(X_continuous, pdf)"
   ]
  },
  {
   "cell_type": "code",
   "execution_count": 10,
   "metadata": {},
   "outputs": [
    {
     "data": {
      "image/png": "[encoded data removed]",
      "text/latex": [
       "$\\displaystyle X_{continuous}$"
      ],
      "text/plain": [
       "X_continuous"
      ]
     },
     "execution_count": 10,
     "metadata": {},
     "output_type": "execute_result"
    }
   ],
   "source": [
    "X_continuous"
   ]
  },
  {
   "cell_type": "markdown",
   "metadata": {},
   "source": [
    "## 概率运算\n",
    "\n",
    "概率统计部分有如下特有的运算表达式可以用于计算不同分布的随机变量组成的表达式或者条件:\n",
    "\n",
    "表达式|含义\n",
    "---|---\n",
    "`P(condition, given_condition=None, numsamples=None, evaluate=True)`|条件为真的概率\n",
    "`E(expr, condition=None, numsamples=None, evaluate=True)`|表达式满足条件的期望值\n",
    "`variance(expr, condition=None)`|表达式满足条件的方差\n",
    "`covariance(expr_x, expr_y, condition=None)`|两个表达式满足条件的协方差\n",
    "`std(expr, condition=None)`|表达式满足条件的标准差\n",
    "`density(expr, condition=None, evaluate=True, numsamples=None)`|表达式满足条件的概率密度函数\n",
    "`given(expr, condition=None)`|表达式满足条件的该条件概率空间上的相同表达式\n",
    "`sample(expr, condition=None)`|从表达式生成一个满足条件的样本\n",
    "`sample_iter(expr, condition=None, numsamples=oo)`|从表达式生成一个满足条件的样本生成器,默认无限长度\n",
    "`where(condition, given_condition=None)`|条件成立的值域\n",
    "\n",
    "\n",
    "同时随机变量组成的运算也支持使用接口`simplify`化简"
   ]
  },
  {
   "cell_type": "code",
   "execution_count": 11,
   "metadata": {},
   "outputs": [],
   "source": [
    "from sympy.stats import P,variance,E,density,sample,where,Probability\n",
    "from sympy import Eq, simplify, Integral"
   ]
  },
  {
   "cell_type": "code",
   "execution_count": 12,
   "metadata": {},
   "outputs": [
    {
     "data": {
      "image/png": "[encoded data removed]",
      "text/latex": [
       "$\\displaystyle \\frac{1}{2}$"
      ],
      "text/plain": [
       "1/2"
      ]
     },
     "execution_count": 12,
     "metadata": {},
     "output_type": "execute_result"
    }
   ],
   "source": [
    "P(X>3)"
   ]
  },
  {
   "cell_type": "code",
   "execution_count": 13,
   "metadata": {},
   "outputs": [
    {
     "data": {
      "image/png": "[encoded data removed]",
      "text/latex": [
       "$\\displaystyle 7$"
      ],
      "text/plain": [
       "7"
      ]
     },
     "execution_count": 13,
     "metadata": {},
     "output_type": "execute_result"
    }
   ],
   "source": [
    "E(X+Y)"
   ]
  },
  {
   "cell_type": "code",
   "execution_count": 14,
   "metadata": {},
   "outputs": [
    {
     "data": {
      "image/png": "[encoded data removed]",
      "text/latex": [
       "$\\displaystyle \\frac{35}{6}$"
      ],
      "text/plain": [
       "35/6"
      ]
     },
     "execution_count": 14,
     "metadata": {},
     "output_type": "execute_result"
    }
   ],
   "source": [
    "variance(X+Y)"
   ]
  },
  {
   "cell_type": "code",
   "execution_count": 15,
   "metadata": {},
   "outputs": [
    {
     "data": {
      "image/png": "[encoded data removed]",
      "text/latex": [
       "$\\displaystyle \\left\\{ 2 : \\frac{1}{36}, \\  3 : \\frac{1}{18}, \\  4 : \\frac{1}{12}, \\  5 : \\frac{1}{9}, \\  6 : \\frac{5}{36}, \\  7 : \\frac{1}{6}, \\  8 : \\frac{5}{36}, \\  9 : \\frac{1}{9}, \\  10 : \\frac{1}{12}, \\  11 : \\frac{1}{18}, \\  12 : \\frac{1}{36}\\right\\}$"
      ],
      "text/plain": [
       "{2: 1/36, 3: 1/18, 4: 1/12, 5: 1/9, 6: 5/36, 7: 1/6, 8: 5/36, 9: 1/9, 10: 1/12\n",
       ", 11: 1/18, 12: 1/36}"
      ]
     },
     "execution_count": 15,
     "metadata": {},
     "output_type": "execute_result"
    }
   ],
   "source": [
    "density(X+Y)"
   ]
  },
  {
   "cell_type": "code",
   "execution_count": 16,
   "metadata": {},
   "outputs": [
    {
     "data": {
      "image/png": "[encoded data removed]",
      "text/latex": [
       "$\\displaystyle 11$"
      ],
      "text/plain": [
       "11"
      ]
     },
     "execution_count": 16,
     "metadata": {},
     "output_type": "execute_result"
    }
   ],
   "source": [
    "sample(X+Y)"
   ]
  },
  {
   "cell_type": "code",
   "execution_count": 17,
   "metadata": {},
   "outputs": [
    {
     "data": {
      "image/png": "[encoded data removed]",
      "text/latex": [
       "$\\displaystyle \\frac{1}{2} - \\frac{\\operatorname{erf}{\\left(\\frac{\\sqrt{2}}{2} \\right)}}{2}$"
      ],
      "text/plain": [
       "       ⎛√2⎞\n",
       "    erf⎜──⎟\n",
       "1      ⎝2 ⎠\n",
       "─ - ───────\n",
       "2      2   "
      ]
     },
     "execution_count": 17,
     "metadata": {},
     "output_type": "execute_result"
    }
   ],
   "source": [
    "simplify(P(Z>1))"
   ]
  },
  {
   "cell_type": "markdown",
   "metadata": {},
   "source": [
    "### `Probability`类用于实例化随机变量满足条件的概率表达式.\n",
    "\n",
    "`P`可以看作是`Probability`类用实例化后求解积分的值"
   ]
  },
  {
   "cell_type": "code",
   "execution_count": 18,
   "metadata": {},
   "outputs": [],
   "source": [
    "from sympy.stats import P,Probability\n",
    "from sympy import Eq, simplify, Integral"
   ]
  },
  {
   "cell_type": "code",
   "execution_count": 19,
   "metadata": {},
   "outputs": [],
   "source": [
    "Nor = Normal(\"Nor\", 0, 1)"
   ]
  },
  {
   "cell_type": "code",
   "execution_count": 20,
   "metadata": {},
   "outputs": [
    {
     "data": {
      "image/png": "[encoded data removed]",
      "text/latex": [
       "$\\displaystyle \\frac{\\sqrt{2} \\left(- \\sqrt{2} \\sqrt{\\pi} \\operatorname{erf}{\\left(\\frac{\\sqrt{2}}{2} \\right)} + \\sqrt{2} \\sqrt{\\pi}\\right)}{4 \\sqrt{\\pi}}$"
      ],
      "text/plain": [
       "   ⎛           ⎛√2⎞        ⎞\n",
       "√2⋅⎜- √2⋅√π⋅erf⎜──⎟ + √2⋅√π⎟\n",
       "   ⎝           ⎝2 ⎠        ⎠\n",
       "────────────────────────────\n",
       "            4⋅√π            "
      ]
     },
     "execution_count": 20,
     "metadata": {},
     "output_type": "execute_result"
    }
   ],
   "source": [
    "P(Nor>1) # X>3的概率"
   ]
  },
  {
   "cell_type": "code",
   "execution_count": 21,
   "metadata": {},
   "outputs": [
    {
     "data": {
      "image/png": "[encoded data removed]",
      "text/latex": [
       "$\\displaystyle Probability\\left(Nor > 1\\right)$"
      ],
      "text/plain": [
       "Probability(Nor > 1)"
      ]
     },
     "execution_count": 21,
     "metadata": {},
     "output_type": "execute_result"
    }
   ],
   "source": [
    "prob = Probability(Nor > 1)# X>3的概率表达式\n",
    "prob"
   ]
  },
  {
   "cell_type": "code",
   "execution_count": 22,
   "metadata": {},
   "outputs": [
    {
     "data": {
      "image/png": "[encoded data removed]",
      "text/latex": [
       "$\\displaystyle \\int\\limits_{1}^{\\infty} \\frac{\\sqrt{2} e^{- \\frac{z^{2}}{2}}}{2 \\sqrt{\\pi}}\\, dz$"
      ],
      "text/plain": [
       "∞            \n",
       "⌠            \n",
       "⎮       2    \n",
       "⎮     -z     \n",
       "⎮     ────   \n",
       "⎮      2     \n",
       "⎮ √2⋅ℯ       \n",
       "⎮ ──────── dz\n",
       "⎮   2⋅√π     \n",
       "⌡            \n",
       "1            "
      ]
     },
     "execution_count": 22,
     "metadata": {},
     "output_type": "execute_result"
    }
   ],
   "source": [
    "prob.rewrite(Integral) # 改写为积分表达式"
   ]
  },
  {
   "cell_type": "code",
   "execution_count": 23,
   "metadata": {
    "scrolled": true
   },
   "outputs": [
    {
     "data": {
      "image/png": "[encoded data removed]",
      "text/latex": [
       "$\\displaystyle \\frac{\\sqrt{2} \\left(- \\sqrt{2} \\sqrt{\\pi} \\operatorname{erf}{\\left(\\frac{\\sqrt{2}}{2} \\right)} + \\sqrt{2} \\sqrt{\\pi}\\right)}{4 \\sqrt{\\pi}}$"
      ],
      "text/plain": [
       "   ⎛           ⎛√2⎞        ⎞\n",
       "√2⋅⎜- √2⋅√π⋅erf⎜──⎟ + √2⋅√π⎟\n",
       "   ⎝           ⎝2 ⎠        ⎠\n",
       "────────────────────────────\n",
       "            4⋅√π            "
      ]
     },
     "execution_count": 23,
     "metadata": {},
     "output_type": "execute_result"
    }
   ],
   "source": [
    "prob.evaluate_integral() # 求解积分"
   ]
  },
  {
   "cell_type": "markdown",
   "metadata": {},
   "source": [
    "### `Expectation`类用于实例化随机变量满足条件的期望表达式.\n",
    "\n",
    "`E`可以看作是`Expectation`类实例化期望后求解积分的结果"
   ]
  },
  {
   "cell_type": "code",
   "execution_count": 24,
   "metadata": {},
   "outputs": [],
   "source": [
    "from sympy.stats import Expectation, Normal, Probability\n",
    "from sympy import symbols, Integral"
   ]
  },
  {
   "cell_type": "code",
   "execution_count": 25,
   "metadata": {},
   "outputs": [],
   "source": [
    "mu = symbols(\"mu\", positive=True)\n",
    "sigma = symbols(\"sigma\", positive=True)\n",
    "Nor_x = Normal(\"Nor_x\", mu, sigma)"
   ]
  },
  {
   "cell_type": "code",
   "execution_count": 26,
   "metadata": {},
   "outputs": [
    {
     "data": {
      "image/png": "[encoded data removed]",
      "text/latex": [
       "$\\displaystyle Expectation\\left(Nor_{x}\\right)$"
      ],
      "text/plain": [
       "Expectation(Nor_x)"
      ]
     },
     "execution_count": 26,
     "metadata": {},
     "output_type": "execute_result"
    }
   ],
   "source": [
    "Expectation(Nor_x)"
   ]
  },
  {
   "cell_type": "code",
   "execution_count": 27,
   "metadata": {},
   "outputs": [
    {
     "data": {
      "image/png": "[encoded data removed]",
      "text/latex": [
       "$\\displaystyle \\mu$"
      ],
      "text/plain": [
       "μ"
      ]
     },
     "execution_count": 27,
     "metadata": {},
     "output_type": "execute_result"
    }
   ],
   "source": [
    "Expectation(Nor_x).evaluate_integral().simplify()"
   ]
  },
  {
   "cell_type": "markdown",
   "metadata": {},
   "source": [
    "我们也可以用`Probability`表达期望"
   ]
  },
  {
   "cell_type": "code",
   "execution_count": 28,
   "metadata": {},
   "outputs": [
    {
     "data": {
      "image/png": "[encoded data removed]",
      "text/latex": [
       "$\\displaystyle \\int\\limits_{-\\infty}^{\\infty} nor_{x} Probability\\left(Nor_{x} = nor_{x}\\right)\\, dnor_{x}$"
      ],
      "text/plain": [
       "∞                                            \n",
       "⌠                                            \n",
       "⎮  norₓ⋅Probability(Eq(Nor_x, nor_x)) d(norₓ)\n",
       "⌡                                            \n",
       "-∞                                           "
      ]
     },
     "execution_count": 28,
     "metadata": {},
     "output_type": "execute_result"
    }
   ],
   "source": [
    "Expectation(Nor_x).rewrite(Probability)"
   ]
  },
  {
   "cell_type": "markdown",
   "metadata": {},
   "source": [
    "我们也可以使用`doit()`接口将期望表达式展开"
   ]
  },
  {
   "cell_type": "code",
   "execution_count": 29,
   "metadata": {},
   "outputs": [],
   "source": [
    "Nor_y = Normal(\"Nor_y\", 0, 1)"
   ]
  },
  {
   "cell_type": "code",
   "execution_count": 30,
   "metadata": {},
   "outputs": [
    {
     "data": {
      "image/png": "[encoded data removed]",
      "text/latex": [
       "$\\displaystyle Expectation\\left(Nor_{x}\\right) + Expectation\\left(Nor_{y}\\right)$"
      ],
      "text/plain": [
       "Expectation(Nor_x) + Expectation(Nor_y)"
      ]
     },
     "execution_count": 30,
     "metadata": {},
     "output_type": "execute_result"
    }
   ],
   "source": [
    "Expectation(Nor_x+Nor_y).doit()"
   ]
  },
  {
   "cell_type": "markdown",
   "metadata": {},
   "source": [
    "### `Variance`类用于实例化随机变量满足条件的方差表达式\n",
    "\n",
    "`variance`可以看作是Variance类实例化期望后求解积分的结果"
   ]
  },
  {
   "cell_type": "code",
   "execution_count": 31,
   "metadata": {},
   "outputs": [
    {
     "data": {
      "image/png": "[encoded data removed]",
      "text/latex": [
       "$\\displaystyle Variance\\left(Nor_{x}\\right)$"
      ],
      "text/plain": [
       "Variance(Nor_x)"
      ]
     },
     "execution_count": 31,
     "metadata": {},
     "output_type": "execute_result"
    }
   ],
   "source": [
    "from sympy import symbols, Integral\n",
    "from sympy.stats import Normal, Expectation, Variance, Probability\n",
    "Variance(Nor_x)"
   ]
  },
  {
   "cell_type": "code",
   "execution_count": 32,
   "metadata": {},
   "outputs": [
    {
     "data": {
      "image/png": "[encoded data removed]",
      "text/latex": [
       "$\\displaystyle \\sigma^{2}$"
      ],
      "text/plain": [
       " 2\n",
       "σ "
      ]
     },
     "execution_count": 32,
     "metadata": {},
     "output_type": "execute_result"
    }
   ],
   "source": [
    "Variance(Nor_x).evaluate_integral()"
   ]
  },
  {
   "cell_type": "markdown",
   "metadata": {},
   "source": [
    "我们也可以用`Probability`表达方差"
   ]
  },
  {
   "cell_type": "code",
   "execution_count": 33,
   "metadata": {},
   "outputs": [
    {
     "data": {
      "image/png": "[encoded data removed]",
      "text/latex": [
       "$\\displaystyle - \\left(\\int\\limits_{-\\infty}^{\\infty} nor_{x} Probability\\left(Nor_{x} = nor_{x}\\right)\\, dnor_{x}\\right)^{2} + \\int\\limits_{-\\infty}^{\\infty} nor_{x}^{2} Probability\\left(Nor_{x} = nor_{x}\\right)\\, dnor_{x}$"
      ],
      "text/plain": [
       "                                                 2   ∞                        \n",
       "  ⎛∞                                            ⎞    ⌠                        \n",
       "  ⎜⌠                                            ⎟    ⎮      2                 \n",
       "- ⎜⎮  norₓ⋅Probability(Eq(Nor_x, nor_x)) d(norₓ)⎟  + ⎮  norₓ ⋅Probability(Eq(N\n",
       "  ⎜⌡                                            ⎟    ⌡                        \n",
       "  ⎝-∞                                           ⎠    -∞                       \n",
       "\n",
       "                     \n",
       "                     \n",
       "                     \n",
       "or_x, nor_x)) d(norₓ)\n",
       "                     \n",
       "                     "
      ]
     },
     "execution_count": 33,
     "metadata": {},
     "output_type": "execute_result"
    }
   ],
   "source": [
    "Variance(Nor_x).rewrite(Probability)"
   ]
  },
  {
   "cell_type": "markdown",
   "metadata": {},
   "source": [
    "我们也可以用`𝐸𝑥𝑝𝑒𝑐𝑡𝑎𝑡𝑖𝑜𝑛`表达方差"
   ]
  },
  {
   "cell_type": "code",
   "execution_count": 34,
   "metadata": {},
   "outputs": [
    {
     "data": {
      "image/png": "[encoded data removed]",
      "text/latex": [
       "$\\displaystyle - Expectation\\left(Nor_{x}\\right)^{2} + Expectation\\left(Nor_{x}^{2}\\right)$"
      ],
      "text/plain": [
       "                    2                        \n",
       "- Expectation(Nor_x)  + Expectation(Nor_x**2)"
      ]
     },
     "execution_count": 34,
     "metadata": {},
     "output_type": "execute_result"
    }
   ],
   "source": [
    "Variance(Nor_x).rewrite(𝐸𝑥𝑝𝑒𝑐𝑡𝑎𝑡𝑖𝑜𝑛)"
   ]
  },
  {
   "cell_type": "markdown",
   "metadata": {},
   "source": [
    "我们也可以使用`doit()`接口将方差表达式展开"
   ]
  },
  {
   "cell_type": "code",
   "execution_count": 35,
   "metadata": {},
   "outputs": [
    {
     "data": {
      "image/png": "[encoded data removed]",
      "text/latex": [
       "$\\displaystyle 2 Covariance\\left(Nor_{x}, Nor_{y}\\right) + Variance\\left(Nor_{x}\\right) + Variance\\left(Nor_{y}\\right)$"
      ],
      "text/plain": [
       "2⋅Covariance(Nor_x, Nor_y) + Variance(Nor_x) + Variance(Nor_y)"
      ]
     },
     "execution_count": 35,
     "metadata": {},
     "output_type": "execute_result"
    }
   ],
   "source": [
    "Variance(Nor_x+Nor_y).doit()"
   ]
  },
  {
   "cell_type": "markdown",
   "metadata": {},
   "source": [
    "### `Covariance`类用于实例化两个随机变量间的协方差表达式\n",
    "\n",
    "`covariance`可以看作是Covariance类实例化期望后求解积分的结果"
   ]
  },
  {
   "cell_type": "code",
   "execution_count": 36,
   "metadata": {},
   "outputs": [],
   "source": [
    "from sympy.stats import Covariance,covariance,𝐸𝑥𝑝𝑒𝑐𝑡𝑎𝑡𝑖𝑜𝑛\n",
    "from sympy.stats import Normal\n",
    "X = Normal(\"X\", 3, 2)\n",
    "Y = Normal(\"Y\", 0, 1)\n",
    "Z = Normal(\"Z\", 0, 1)\n",
    "W = Normal(\"W\", 0, 1)"
   ]
  },
  {
   "cell_type": "code",
   "execution_count": 37,
   "metadata": {},
   "outputs": [
    {
     "data": {
      "image/png": "[encoded data removed]",
      "text/latex": [
       "$\\displaystyle Covariance\\left(X, Y\\right)$"
      ],
      "text/plain": [
       "Covariance(X, Y)"
      ]
     },
     "execution_count": 37,
     "metadata": {},
     "output_type": "execute_result"
    }
   ],
   "source": [
    "cexpr = Covariance(X, Y)\n",
    "cexpr"
   ]
  },
  {
   "cell_type": "code",
   "execution_count": 38,
   "metadata": {},
   "outputs": [
    {
     "data": {
      "image/png": "[encoded data removed]",
      "text/latex": [
       "$\\displaystyle 0$"
      ],
      "text/plain": [
       "0"
      ]
     },
     "execution_count": 38,
     "metadata": {},
     "output_type": "execute_result"
    }
   ],
   "source": [
    "cexpr.evaluate_integral()"
   ]
  },
  {
   "cell_type": "code",
   "execution_count": 39,
   "metadata": {},
   "outputs": [
    {
     "data": {
      "image/png": "[encoded data removed]",
      "text/latex": [
       "$\\displaystyle 0$"
      ],
      "text/plain": [
       "0"
      ]
     },
     "execution_count": 39,
     "metadata": {},
     "output_type": "execute_result"
    }
   ],
   "source": [
    "covariance(X,Y)"
   ]
  },
  {
   "cell_type": "markdown",
   "metadata": {},
   "source": [
    "我们可以用𝐸𝑥𝑝𝑒𝑐𝑡𝑎𝑡𝑖𝑜𝑛表达协方差"
   ]
  },
  {
   "cell_type": "code",
   "execution_count": 40,
   "metadata": {},
   "outputs": [
    {
     "data": {
      "image/png": "[encoded data removed]",
      "text/latex": [
       "$\\displaystyle Expectation\\left(X Y\\right) - Expectation\\left(X\\right) Expectation\\left(Y\\right)$"
      ],
      "text/plain": [
       "Expectation(X*Y) - Expectation(X)⋅Expectation(Y)"
      ]
     },
     "execution_count": 40,
     "metadata": {},
     "output_type": "execute_result"
    }
   ],
   "source": [
    "cexpr.rewrite(𝐸𝑥𝑝𝑒𝑐𝑡𝑎𝑡𝑖𝑜𝑛)"
   ]
  },
  {
   "cell_type": "markdown",
   "metadata": {},
   "source": [
    "我们也可以使用`doit()`接口将协方差表达式展开"
   ]
  },
  {
   "cell_type": "code",
   "execution_count": 41,
   "metadata": {},
   "outputs": [],
   "source": [
    "from sympy.abc import a, b,c,d"
   ]
  },
  {
   "cell_type": "code",
   "execution_count": 42,
   "metadata": {},
   "outputs": [
    {
     "data": {
      "image/png": "[encoded data removed]",
      "text/latex": [
       "$\\displaystyle Covariance\\left(X, Y\\right)$"
      ],
      "text/plain": [
       "Covariance(X, Y)"
      ]
     },
     "execution_count": 42,
     "metadata": {},
     "output_type": "execute_result"
    }
   ],
   "source": [
    "cexpr.doit()"
   ]
  },
  {
   "cell_type": "code",
   "execution_count": 43,
   "metadata": {},
   "outputs": [
    {
     "data": {
      "image/png": "[encoded data removed]",
      "text/latex": [
       "$\\displaystyle Variance\\left(X\\right)$"
      ],
      "text/plain": [
       "Variance(X)"
      ]
     },
     "execution_count": 43,
     "metadata": {},
     "output_type": "execute_result"
    }
   ],
   "source": [
    "Covariance(X, X).doit()"
   ]
  },
  {
   "cell_type": "code",
   "execution_count": 44,
   "metadata": {},
   "outputs": [
    {
     "data": {
      "image/png": "[encoded data removed]",
      "text/latex": [
       "$\\displaystyle a b Covariance\\left(X, X\\right)$"
      ],
      "text/plain": [
       "a⋅b⋅Covariance(X, X)"
      ]
     },
     "execution_count": 44,
     "metadata": {},
     "output_type": "execute_result"
    }
   ],
   "source": [
    "Covariance(a*X, b*X).doit()"
   ]
  },
  {
   "cell_type": "code",
   "execution_count": 45,
   "metadata": {},
   "outputs": [
    {
     "data": {
      "image/png": "[encoded data removed]",
      "text/latex": [
       "$\\displaystyle a c Covariance\\left(X, Z\\right) + a d Covariance\\left(W, X\\right) + b c Covariance\\left(Y, Z\\right) + b d Covariance\\left(W, Y\\right)$"
      ],
      "text/plain": [
       "a⋅c⋅Covariance(X, Z) + a⋅d⋅Covariance(W, X) + b⋅c⋅Covariance(Y, Z) + b⋅d⋅Covar\n",
       "iance(W, Y)"
      ]
     },
     "execution_count": 45,
     "metadata": {},
     "output_type": "execute_result"
    }
   ],
   "source": [
    "Covariance(a*X + b*Y, c*Z + d*W).doit()"
   ]
  },
  {
   "cell_type": "markdown",
   "metadata": {},
   "source": [
    "## 概率空间\n",
    "\n",
    "SymPy中通常是用来验证某个表达式是否与另一表达式在同一个概率空间"
   ]
  },
  {
   "cell_type": "code",
   "execution_count": 46,
   "metadata": {},
   "outputs": [],
   "source": [
    "from sympy.stats import pspace, Normal\n",
    "from sympy.stats.rv import IndependentProductPSpace"
   ]
  },
  {
   "cell_type": "code",
   "execution_count": 47,
   "metadata": {},
   "outputs": [
    {
     "data": {
      "image/png": "[encoded data removed]",
      "text/latex": [
       "$\\displaystyle SingleContinuousPSpace\\left(X, NormalDistribution\\left(0, 1\\right)\\right)$"
      ],
      "text/plain": [
       "SingleContinuousPSpace(X, NormalDistribution(0, 1))"
      ]
     },
     "execution_count": 47,
     "metadata": {},
     "output_type": "execute_result"
    }
   ],
   "source": [
    "X = Normal('X', 0, 1)\n",
    "pspace(2*X + 1)"
   ]
  },
  {
   "cell_type": "code",
   "execution_count": 48,
   "metadata": {},
   "outputs": [
    {
     "data": {
      "image/png": "[encoded data removed]",
      "text/latex": [
       "$\\displaystyle SingleContinuousPSpace\\left(X, NormalDistribution\\left(0, 1\\right)\\right)$"
      ],
      "text/plain": [
       "SingleContinuousPSpace(X, NormalDistribution(0, 1))"
      ]
     },
     "execution_count": 48,
     "metadata": {},
     "output_type": "execute_result"
    }
   ],
   "source": [
    "X.pspace"
   ]
  },
  {
   "cell_type": "code",
   "execution_count": 49,
   "metadata": {},
   "outputs": [
    {
     "data": {
      "text/plain": [
       "True"
      ]
     },
     "execution_count": 49,
     "metadata": {},
     "output_type": "execute_result"
    }
   ],
   "source": [
    "pspace(2*X + 1) == X.pspace"
   ]
  }
 ],
 "metadata": {
  "kernelspec": {
   "display_name": "Python 3",
   "language": "python",
   "name": "python3"
  },
  "language_info": {
   "codemirror_mode": {
    "name": "ipython",
    "version": 3
   },
   "file_extension": ".py",
   "mimetype": "text/x-python",
   "name": "python",
   "nbconvert_exporter": "python",
   "pygments_lexer": "ipython3",
   "version": "3.7.3"
  }
 },
 "nbformat": 4,
 "nbformat_minor": 2
}
