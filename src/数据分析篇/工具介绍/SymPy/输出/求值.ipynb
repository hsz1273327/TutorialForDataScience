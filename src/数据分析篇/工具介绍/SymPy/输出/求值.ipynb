{
 "cells": [
  {
   "cell_type": "markdown",
   "metadata": {},
   "source": [
    "# 求值\n",
    "\n",
    "符号运算一种输出自然是带入符号求值了,我们推导了半天,很多时候是为了最终计算出数值解的.\n",
    "\n",
    "求值有3种方式:\n",
    "\n",
    "+ 求符号的值\n",
    "+ 带入符号求算式的值\n",
    "+ 将算式转化为python函数"
   ]
  },
  {
   "cell_type": "markdown",
   "metadata": {},
   "source": [
    "## 符号求值\n",
    "\n",
    "符号求值使用`evalf`方法,默认的精度是小数点后15位"
   ]
  },
  {
   "cell_type": "code",
   "execution_count": 1,
   "metadata": {},
   "outputs": [],
   "source": [
    "import sympy as sp"
   ]
  },
  {
   "cell_type": "code",
   "execution_count": 3,
   "metadata": {},
   "outputs": [
    {
     "data": {
      "text/plain": [
       "3.14159265358979"
      ]
     },
     "execution_count": 3,
     "metadata": {},
     "output_type": "execute_result"
    }
   ],
   "source": [
    "sp.pi.evalf()"
   ]
  },
  {
   "cell_type": "markdown",
   "metadata": {},
   "source": [
    "也可以带上精度"
   ]
  },
  {
   "cell_type": "code",
   "execution_count": 5,
   "metadata": {},
   "outputs": [
    {
     "data": {
      "text/plain": [
       "3.1416"
      ]
     },
     "execution_count": 5,
     "metadata": {},
     "output_type": "execute_result"
    }
   ],
   "source": [
    "sp.pi.evalf(5)"
   ]
  },
  {
   "cell_type": "code",
   "execution_count": 8,
   "metadata": {},
   "outputs": [
    {
     "data": {
      "text/plain": [
       "0.909"
      ]
     },
     "execution_count": 8,
     "metadata": {},
     "output_type": "execute_result"
    }
   ],
   "source": [
    "sp.sin(2).evalf(3)"
   ]
  },
  {
   "cell_type": "markdown",
   "metadata": {},
   "source": [
    "## 带入符号求值\n",
    "\n",
    "符号运算一种输出自然是带入符号求值了,我们推导了半天,很多时候是为了最终计算出数值解的.\n",
    "\n",
    "我们可以使用算式对象的`subs`方法为自变量符号代入具体数值以求解"
   ]
  },
  {
   "cell_type": "code",
   "execution_count": 2,
   "metadata": {},
   "outputs": [],
   "source": [
    "x,y,z = sp.symbols(\"x,y,z\")"
   ]
  },
  {
   "cell_type": "code",
   "execution_count": 2,
   "metadata": {},
   "outputs": [],
   "source": [
    "f = x+2*y+z"
   ]
  },
  {
   "cell_type": "code",
   "execution_count": 3,
   "metadata": {},
   "outputs": [
    {
     "data": {
      "text/latex": [
       "$\\displaystyle 8$"
      ],
      "text/plain": [
       "8"
      ]
     },
     "execution_count": 3,
     "metadata": {},
     "output_type": "execute_result"
    }
   ],
   "source": [
    "f.subs([(x,1),(y,2),(z,3)])"
   ]
  },
  {
   "cell_type": "markdown",
   "metadata": {},
   "source": [
    "## 将算式转换为python函数\n",
    "\n",
    "另一种用处是使用函数`lambdify(params:Tuple[symbols],exp,package:str)=>Callable`把算式转换成python函数,末位参数表示一些用到的运算使用哪个包,支持的有:\n",
    "\n",
    "+ `sympy`,自带的运算库\n",
    "+ `math`标准库math\n",
    "+ `numnpy`\n",
    "+ `scipy`\n",
    "+ `numexpr`\n",
    "+ `mpmath`,sympy依赖的运算库\n",
    "+ `tensorflow`\n",
    "\n",
    "默认是:\n",
    "+ 如果装了scipy就是`[\"scipy\", \"numpy\"]`\n",
    "+ 如果装了numpy就是`[\"numpy\"]`\n",
    "+ 如果都没装就是`[\"math\", \"mpmath\", \"sympy\"]`\n",
    "\n",
    "构造好之后再直接调用这个函数就可以求出数值解."
   ]
  },
  {
   "cell_type": "code",
   "execution_count": 4,
   "metadata": {},
   "outputs": [],
   "source": [
    "f_python = sp.lambdify((x,y,z),f,'numpy')"
   ]
  },
  {
   "cell_type": "code",
   "execution_count": 5,
   "metadata": {},
   "outputs": [
    {
     "data": {
      "text/plain": [
       "8"
      ]
     },
     "execution_count": 5,
     "metadata": {},
     "output_type": "execute_result"
    }
   ],
   "source": [
    "f_python(x=1,y=2,z=3)"
   ]
  }
 ],
 "metadata": {
  "kernelspec": {
   "display_name": "Python 3",
   "language": "python",
   "name": "python3"
  },
  "language_info": {
   "codemirror_mode": {
    "name": "ipython",
    "version": 3
   },
   "file_extension": ".py",
   "mimetype": "text/x-python",
   "name": "python",
   "nbconvert_exporter": "python",
   "pygments_lexer": "ipython3",
   "version": "3.7.2"
  }
 },
 "nbformat": 4,
 "nbformat_minor": 2
}
