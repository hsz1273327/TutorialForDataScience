{
 "cells": [
  {
   "cell_type": "markdown",
   "metadata": {},
   "source": [
    "# 流计算\n",
    "\n",
    "dask的实时任务提交接口非常适合做流处理,通过结合[streamz](https://github.com/python-streamz/streamz)我们可以构造复杂的流处理系统.\n",
    "\n",
    "\n",
    "流处理常用于处理数据流,构造数据处理管道.具体的内容我们后面数据科学部分再说."
   ]
  },
  {
   "cell_type": "markdown",
   "metadata": {},
   "source": [
    "## 使用streamz做流处理\n",
    "\n",
    "streamz的基本接口主要有如下几类:\n",
    "\n",
    "###  基本的的流处理结构\n",
    "\n",
    "+ `map(upstream, func, *args, **kwargs)`用于将流中的每个数据分发给处理函数;\n",
    "+ `Stream.emit(self, x[, asynchronous])`用于将数据提交到流;\n",
    "+ `sink(upstream, func, *args, **kwargs)`则将函数应用于每个结果.\n",
    "\n",
    "一个最简单最基本的流处理单元如下:"
   ]
  },
  {
   "cell_type": "code",
   "execution_count": 2,
   "metadata": {},
   "outputs": [
    {
     "name": "stdout",
     "output_type": "stream",
     "text": [
      "1\n",
      "2\n",
      "5\n",
      "10\n",
      "17\n",
      "26\n",
      "37\n",
      "50\n",
      "65\n",
      "82\n"
     ]
    }
   ],
   "source": [
    "from streamz import Stream\n",
    "\n",
    "def increment(x):\n",
    "    return x**2 + 1\n",
    "\n",
    "source = Stream()\n",
    "source.map(increment).sink(print)\n",
    "\n",
    "for i in range(10):\n",
    "    source.emit(i)"
   ]
  },
  {
   "cell_type": "markdown",
   "metadata": {},
   "source": [
    "### 设置缓冲区防止流堵塞\n",
    "\n",
    "由于机器的性能或者短时间内大量数据的涌入,流处理可能会堵塞,我们可以使用`buffer(upstream, n, **kwargs)`来设置一个缓冲区,以应付这种情况.在上一个节点未能处理完之前如果有新的节点进来,那么它会被放在缓冲区."
   ]
  },
  {
   "cell_type": "code",
   "execution_count": 2,
   "metadata": {},
   "outputs": [
    {
     "name": "stdout",
     "output_type": "stream",
     "text": [
      "1\n",
      "2\n",
      "5\n",
      "10\n",
      "17\n",
      "26\n",
      "37\n",
      "50\n",
      "65\n",
      "82\n"
     ]
    }
   ],
   "source": [
    "from streamz import Stream\n",
    "\n",
    "def increment(x):\n",
    "    return x**2 + 1\n",
    "\n",
    "source = Stream()\n",
    "source.buffer(100).map(increment).sink(print)\n",
    "\n",
    "for i in range(10):\n",
    "    source.emit(i)"
   ]
  },
  {
   "cell_type": "markdown",
   "metadata": {},
   "source": [
    "### 积累状态\n",
    "\n",
    "使用接口`accumulate(upstream, func[, start, …])`可以积累流中的状态,类似`reduce`操作"
   ]
  },
  {
   "cell_type": "code",
   "execution_count": 3,
   "metadata": {},
   "outputs": [
    {
     "name": "stdout",
     "output_type": "stream",
     "text": [
      "1\n",
      "3\n",
      "8\n",
      "18\n",
      "35\n",
      "61\n",
      "98\n",
      "148\n",
      "213\n",
      "295\n"
     ]
    }
   ],
   "source": [
    "from streamz import Stream\n",
    "\n",
    "def increment(x):\n",
    "    return x**2 + 1\n",
    "\n",
    "def add(x,y):\n",
    "    return x+y\n",
    "\n",
    "source = Stream()\n",
    "source.map(increment).accumulate(add).sink(print)\n",
    "\n",
    "for i in range(10):\n",
    "    source.emit(i)"
   ]
  },
  {
   "cell_type": "markdown",
   "metadata": {},
   "source": [
    "### 操作流中元素\n",
    "\n",
    "+ 确保唯一性\n",
    "\n",
    "可以使用`unique(upstream[, maxsize, key, hashable])`保证流中元素唯一性,这个接口可以设置`maxsize`参数 用于控制这个唯一性的范围(最近多少条没有重复),重复的元素则会被过滤掉;而参数`key`和python中其他itertools一样用于确定不重复的键如何取到."
   ]
  },
  {
   "cell_type": "code",
   "execution_count": 7,
   "metadata": {},
   "outputs": [
    {
     "name": "stdout",
     "output_type": "stream",
     "text": [
      "1\n",
      "2\n",
      "3\n",
      "4\n",
      "5\n",
      "6\n",
      "##################\n",
      "1\n",
      "2\n",
      "3\n",
      "2\n",
      "3\n",
      "2\n",
      "4\n",
      "5\n",
      "6\n"
     ]
    }
   ],
   "source": [
    "source = Stream()\n",
    "#source.unique(maxsize=1).sink(print)\n",
    "source.unique(maxsize=4).sink(print)\n",
    "for i in [1,2,3,2,3,2,2,4,5,6]:\n",
    "    source.emit(i)\n",
    "print(\"##################\")\n",
    "source = Stream()\n",
    "source.unique(maxsize=1).sink(print)\n",
    "for i in [1,2,3,2,3,2,2,4,5,6]:\n",
    "    source.emit(i)"
   ]
  },
  {
   "cell_type": "markdown",
   "metadata": {},
   "source": [
    "+ 过滤元素\n",
    "\n",
    "可以使用`filter(upstream, predicate, *args, **kwargs)`来主动过滤一些符合条件的元素."
   ]
  },
  {
   "cell_type": "code",
   "execution_count": 5,
   "metadata": {},
   "outputs": [
    {
     "name": "stdout",
     "output_type": "stream",
     "text": [
      "0\n",
      "2\n",
      "4\n",
      "6\n",
      "8\n"
     ]
    }
   ],
   "source": [
    "source = Stream()\n",
    "source.filter(lambda x: x%2 == 0).sink(print)\n",
    "for i in range(10):\n",
    "    source.emit(i)"
   ]
  },
  {
   "cell_type": "markdown",
   "metadata": {},
   "source": [
    "+ 将流数据压扁\n",
    "\n",
    "类似spark中的flatten,`flatten()`也是一个功能,"
   ]
  },
  {
   "cell_type": "code",
   "execution_count": 9,
   "metadata": {},
   "outputs": [
    {
     "name": "stdout",
     "output_type": "stream",
     "text": [
      "1\n",
      "2\n",
      "3\n",
      "4\n",
      "5\n",
      "6\n",
      "7\n",
      "7\n"
     ]
    }
   ],
   "source": [
    "source = Stream()\n",
    "\n",
    "source.flatten().sink(print)\n",
    "\n",
    "for i in [[1, 2, 3], [4, 5], [6, 7, 7]]:\n",
    "    source.emit(i)"
   ]
  },
  {
   "cell_type": "markdown",
   "metadata": {},
   "source": [
    "+ 延迟处理\n",
    "\n",
    "借助事件循环,我们可以使用`delay(upstream, interval, **kwargs)`接口来推迟执行的时间."
   ]
  },
  {
   "cell_type": "code",
   "execution_count": 6,
   "metadata": {},
   "outputs": [
    {
     "name": "stdout",
     "output_type": "stream",
     "text": [
      "0\n",
      "2\n",
      "4\n",
      "6\n",
      "8\n"
     ]
    }
   ],
   "source": [
    "source = Stream()\n",
    "source.delay(1).filter(lambda x: x%2 == 0).sink(print)\n",
    "for i in range(10):\n",
    "    source.emit(i)"
   ]
  },
  {
   "cell_type": "markdown",
   "metadata": {},
   "source": [
    "+ 固定时间间隔执行\n",
    "\n",
    "`rate_limit(upstream, interval, **kwargs)`可以实现这个功能,它可以用于平稳流的执行."
   ]
  },
  {
   "cell_type": "code",
   "execution_count": 6,
   "metadata": {},
   "outputs": [
    {
     "name": "stdout",
     "output_type": "stream",
     "text": [
      "0\n",
      "1\n",
      "2\n",
      "3\n",
      "4\n",
      "5\n",
      "6\n",
      "7\n",
      "8\n",
      "9\n"
     ]
    }
   ],
   "source": [
    "import time\n",
    "source = Stream()\n",
    "source.rate_limit(interval=1).sink(print)\n",
    "for i in range(10):\n",
    "    source.emit(i)"
   ]
  },
  {
   "cell_type": "markdown",
   "metadata": {},
   "source": [
    "### 截断缓存流\n",
    "\n",
    "流处理一个很重要的功能就是计算序列中元素附近的一些统计量,这种时候截断与缓存就相当有用了."
   ]
  },
  {
   "cell_type": "markdown",
   "metadata": {},
   "source": [
    "+ 每隔一定数量截断流构建元素\n",
    "\n",
    "`partition(upstream, n, **kwargs)` 可以实现这个功能,不过一旦停止,多出来的元素会被抛弃"
   ]
  },
  {
   "cell_type": "code",
   "execution_count": 10,
   "metadata": {},
   "outputs": [
    {
     "name": "stdout",
     "output_type": "stream",
     "text": [
      "(0, 1, 2)\n",
      "(3, 4, 5)\n",
      "(6, 7, 8)\n"
     ]
    }
   ],
   "source": [
    "source = Stream()\n",
    "source.partition(n=3).sink(print)\n",
    "for i in range(10):\n",
    "    source.emit(i)"
   ]
  },
  {
   "cell_type": "markdown",
   "metadata": {},
   "source": [
    "+ 将元素保存在缓存中\n",
    "\n",
    "`streamz.collect(upstream, cache=None, **kwargs)`可以将流中的元素保存到缓存中,并在调用对象的`flush`时将它们作为集合发出并清空缓存."
   ]
  },
  {
   "cell_type": "code",
   "execution_count": 18,
   "metadata": {},
   "outputs": [
    {
     "name": "stdout",
     "output_type": "stream",
     "text": [
      "(0, 1, 2, 3, 4, 5, 6, 7, 8, 9)\n"
     ]
    }
   ],
   "source": [
    "source1 = Stream()\n",
    "source2 = Stream()\n",
    "collector = source1.collect()\n",
    "collector.sink(print)\n",
    "source2.sink(collector.flush)\n",
    "for i in range(10):\n",
    "    source1.emit(i)\n",
    "source2.emit('anything')"
   ]
  },
  {
   "cell_type": "markdown",
   "metadata": {},
   "source": [
    "我们也可以设置`cache`参数,通常我们使用一个deque来限定缓存长度.外部定义的缓存也可以在流处理外部使用,这通常用于保存近期数据"
   ]
  },
  {
   "cell_type": "code",
   "execution_count": 25,
   "metadata": {},
   "outputs": [
    {
     "name": "stdout",
     "output_type": "stream",
     "text": [
      "1\n",
      "2\n",
      "3\n",
      "4\n",
      "5\n",
      "5\n",
      "5\n",
      "5\n",
      "5\n",
      "5\n",
      "(5, 6, 7, 8, 9)\n"
     ]
    }
   ],
   "source": [
    "from collections import deque\n",
    "\n",
    "cache = deque([],5)\n",
    "source1 = Stream()\n",
    "source2 = Stream()\n",
    "collector = source1.collect(cache=cache)\n",
    "collector.sink(print)\n",
    "source2.sink(collector.flush)\n",
    "for i in range(10):\n",
    "    source1.emit(i)\n",
    "    print(len(cache))\n",
    "source2.emit('anything')"
   ]
  },
  {
   "cell_type": "code",
   "execution_count": 23,
   "metadata": {},
   "outputs": [
    {
     "data": {
      "text/plain": [
       "deque([])"
      ]
     },
     "execution_count": 23,
     "metadata": {},
     "output_type": "execute_result"
    }
   ],
   "source": [
    "cache"
   ]
  },
  {
   "cell_type": "markdown",
   "metadata": {},
   "source": [
    "+ 按元素个数窗口截断并缓存元素\n",
    "\n",
    "`sliding_window(upstream, n, return_partial=True, **kwargs)`可以实现这个功能,它会保存当前元素和最近的(n-1)个元素组成tuple构成一个新的元素,参数`return_partial=True`意味着在流开始时,元素前面元素不足够的情况下也会被构成tuple."
   ]
  },
  {
   "cell_type": "code",
   "execution_count": 11,
   "metadata": {},
   "outputs": [
    {
     "name": "stdout",
     "output_type": "stream",
     "text": [
      "(0,)\n",
      "(0, 1)\n",
      "(0, 1, 2)\n",
      "(1, 2, 3)\n",
      "(2, 3, 4)\n",
      "(3, 4, 5)\n",
      "(4, 5, 6)\n",
      "(5, 6, 7)\n",
      "(6, 7, 8)\n",
      "(7, 8, 9)\n"
     ]
    }
   ],
   "source": [
    "source = Stream()\n",
    "source.sliding_window( n=3, return_partial=True).sink(print)\n",
    "for i in range(10):\n",
    "    source.emit(i)"
   ]
  },
  {
   "cell_type": "code",
   "execution_count": 13,
   "metadata": {},
   "outputs": [
    {
     "name": "stdout",
     "output_type": "stream",
     "text": [
      "(0, 1, 2)\n",
      "(1, 2, 3)\n",
      "(2, 3, 4)\n",
      "(3, 4, 5)\n",
      "(4, 5, 6)\n",
      "(5, 6, 7)\n",
      "(6, 7, 8)\n",
      "(7, 8, 9)\n"
     ]
    }
   ],
   "source": [
    "source = Stream()\n",
    "source.sliding_window( n=3, return_partial=False).sink(print)\n",
    "for i in range(10):\n",
    "    source.emit(i)"
   ]
  },
  {
   "cell_type": "markdown",
   "metadata": {},
   "source": [
    "+ 按时间窗口截断并缓存元素\n",
    "\n",
    "`timed_window(upstream, interval, **kwargs)`可以实现这个功能.它与上面`sliding_window`不同之处就在于它是按时间截取,注意参数`interval`单位是秒.要注意一旦使用这个接口,它会启动一个事件循环来控制时间."
   ]
  },
  {
   "cell_type": "code",
   "execution_count": 16,
   "metadata": {},
   "outputs": [
    {
     "name": "stdout",
     "output_type": "stream",
     "text": [
      "[]\n",
      "[0, 1, 2, 3, 4]\n",
      "[5, 6, 7, 8, 9, 10, 11]\n",
      "[12, 13, 14, 15, 16]\n",
      "[17, 18, 19, 20, 21, 22, 23]\n",
      "[24, 25, 26, 27, 28, 29]\n",
      "[]\n",
      "[]\n",
      "[]\n"
     ]
    }
   ],
   "source": [
    "import time\n",
    "source = Stream()\n",
    "source.timed_window( interval=3).sink(print)\n",
    "for i in range(30):\n",
    "    time.sleep(0.5)\n",
    "    source.emit(i)\n",
    "    "
   ]
  },
  {
   "cell_type": "markdown",
   "metadata": {},
   "source": [
    "### 组合流\n",
    "\n",
    "python有生成器本身其实已经有一定的流操作能力,那为什么要用`streamz`呢,用它更多的是为了构造复杂的流组合.在业务上流操作也时常需要组合,比如计算一个\n",
    "\n",
    "#### 流分叉\n",
    "\n",
    "我们的source对象可以用于构造流处理的计算图,"
   ]
  },
  {
   "cell_type": "code",
   "execution_count": 3,
   "metadata": {},
   "outputs": [
    {
     "data": {
      "image/png": "[encoded data removed]",
      "text/plain": [
       "<IPython.core.display.Image object>"
      ]
     },
     "execution_count": 3,
     "metadata": {},
     "output_type": "execute_result"
    }
   ],
   "source": [
    "def increment(x):\n",
    "    return x + 1\n",
    "\n",
    "def decrement(x):\n",
    "    return x - 1\n",
    "\n",
    "source = Stream()\n",
    "a = source.map(increment).sink(print)\n",
    "b = source.map(decrement).sink(print)\n",
    "b.visualize(rankdir='LR')"
   ]
  },
  {
   "cell_type": "code",
   "execution_count": 6,
   "metadata": {},
   "outputs": [
    {
     "name": "stdout",
     "output_type": "stream",
     "text": [
      "1\n",
      "-1\n",
      "2\n",
      "0\n",
      "3\n",
      "1\n",
      "4\n",
      "2\n",
      "5\n",
      "3\n"
     ]
    }
   ],
   "source": [
    "for i in range(5):\n",
    "    source.emit(i)"
   ]
  },
  {
   "cell_type": "markdown",
   "metadata": {},
   "source": [
    "#### 流合并\n",
    "\n",
    "+ `union(*upstreams, **kwargs)`将不同的流做合并操作"
   ]
  },
  {
   "cell_type": "code",
   "execution_count": 7,
   "metadata": {},
   "outputs": [
    {
     "data": {
      "image/png": "[encoded data removed]",
      "text/plain": [
       "<IPython.core.display.Image object>"
      ]
     },
     "execution_count": 7,
     "metadata": {},
     "output_type": "execute_result"
    }
   ],
   "source": [
    "source1 = Stream()\n",
    "source2 = Stream()\n",
    "view = source1.union(source2).map(lambda x: x**2).sink(print)\n",
    "view.visualize(rankdir='LR')"
   ]
  },
  {
   "cell_type": "code",
   "execution_count": 8,
   "metadata": {},
   "outputs": [
    {
     "name": "stdout",
     "output_type": "stream",
     "text": [
      "0\n",
      "400\n",
      "1\n",
      "441\n",
      "4\n",
      "484\n",
      "9\n",
      "529\n",
      "16\n",
      "576\n",
      "25\n",
      "625\n",
      "36\n",
      "676\n",
      "49\n",
      "729\n",
      "64\n",
      "784\n",
      "81\n",
      "841\n"
     ]
    }
   ],
   "source": [
    "for i,j in zip(range(10),range(20,30)):\n",
    "    source1.emit(i)\n",
    "    source2.emit(j)"
   ]
  },
  {
   "cell_type": "markdown",
   "metadata": {},
   "source": [
    "+ `combine_latest(*upstreams, **kwargs)`将不同流的最后两个元素组成tuple后合并,注意这个接口只要有一条流中有新数据传入就会触发计算"
   ]
  },
  {
   "cell_type": "code",
   "execution_count": 14,
   "metadata": {},
   "outputs": [
    {
     "name": "stdout",
     "output_type": "stream",
     "text": [
      "(0, 20)\n",
      "(1, 20)\n",
      "(2, 20)\n",
      "(2, 22)\n",
      "(3, 22)\n",
      "(4, 22)\n",
      "(4, 24)\n",
      "(5, 24)\n",
      "(6, 24)\n",
      "(6, 26)\n",
      "(7, 26)\n",
      "(8, 26)\n",
      "(8, 28)\n",
      "(9, 28)\n"
     ]
    }
   ],
   "source": [
    "source1 = Stream()\n",
    "source2 = Stream()\n",
    "source1.combine_latest(source2).sink(print)\n",
    "\n",
    "for i,j in zip(range(10),range(20,30)):\n",
    "    source1.emit(i)\n",
    "    if j%2==0:\n",
    "        source2.emit(j)"
   ]
  },
  {
   "cell_type": "markdown",
   "metadata": {},
   "source": [
    "+ `zip(*upstreams, **kwargs)`将不同流按次序对齐并组成tuple,这个行为和python默认的zip一致,只是这个接口会丢弃无法对齐的数据"
   ]
  },
  {
   "cell_type": "code",
   "execution_count": 15,
   "metadata": {},
   "outputs": [
    {
     "name": "stdout",
     "output_type": "stream",
     "text": [
      "(0, 20)\n",
      "(1, 22)\n",
      "(2, 24)\n",
      "(3, 26)\n",
      "(4, 28)\n"
     ]
    }
   ],
   "source": [
    "source1 = Stream()\n",
    "source2 = Stream()\n",
    "source1.zip(source2).sink(print)\n",
    "\n",
    "for i,j in zip(range(10),range(20,30)):\n",
    "    source1.emit(i)\n",
    "    if j%2==0:\n",
    "        source2.emit(j)"
   ]
  },
  {
   "cell_type": "markdown",
   "metadata": {},
   "source": [
    "+ `zip_latest(lossless, *upstreams, **kwargs)`这个接口会保证所有元素都被放出来,并且最长的一条不会重"
   ]
  },
  {
   "cell_type": "code",
   "execution_count": 16,
   "metadata": {},
   "outputs": [
    {
     "name": "stdout",
     "output_type": "stream",
     "text": [
      "(0, 20)\n",
      "(1, 20)\n",
      "(2, 20)\n",
      "(3, 22)\n",
      "(4, 22)\n",
      "(5, 24)\n",
      "(6, 24)\n",
      "(7, 26)\n",
      "(8, 26)\n",
      "(9, 28)\n"
     ]
    }
   ],
   "source": [
    "source1 = Stream()\n",
    "source2 = Stream()\n",
    "source1.zip_latest(source2).sink(print)\n",
    "\n",
    "for i,j in zip(range(10),range(20,30)):\n",
    "    source1.emit(i)\n",
    "    if j%2==0:\n",
    "        source2.emit(j)"
   ]
  },
  {
   "cell_type": "markdown",
   "metadata": {},
   "source": [
    "#### 递归与反馈\n",
    "\n",
    "`.connect(downstream)`和`.disconnect(downstream)`可以用于将流连接起来,这常用于构造递归与反馈循环,下面的例子我们构造一个流用于遍历我们的文件系统"
   ]
  },
  {
   "cell_type": "code",
   "execution_count": 9,
   "metadata": {},
   "outputs": [
    {
     "name": "stdout",
     "output_type": "stream",
     "text": [
      "./\n",
      "分布式数据结构.ipynb\n",
      ".DS_Store\n",
      "mystream.png\n",
      "source\n",
      "source/collections-schedulers.png\n",
      "README.ipynb\n",
      "dask作为算力池.ipynb\n",
      "code\n",
      "code/.DS_Store\n",
      "code/streaming\n",
      "code/streaming/streaming_async.py\n",
      "code/realtime\n",
      "code/realtime/async_actor.py\n",
      "code/realtime/.vscode\n",
      "code/realtime/.vscode/settings.json\n",
      "code/realtime/async_submit.py\n",
      "实时任务提交.ipynb\n",
      "README.md\n",
      ".ipynb_checkpoints\n",
      ".ipynb_checkpoints/分布式数据结构-checkpoint.ipynb\n",
      ".ipynb_checkpoints/外部数据读取-checkpoint.ipynb\n",
      ".ipynb_checkpoints/README-checkpoint.ipynb\n",
      ".ipynb_checkpoints/流处理-checkpoint.ipynb\n",
      ".ipynb_checkpoints/dask作为算力池-checkpoint.ipynb\n",
      ".ipynb_checkpoints/实时任务提交-checkpoint.ipynb\n",
      "mydask.png\n",
      "流处理.ipynb\n",
      "服务化.ipynb\n"
     ]
    }
   ],
   "source": [
    "from streamz import Stream\n",
    "from pathlib import Path\n",
    "source = Stream()\n",
    "\n",
    "my_path = source.unique()\n",
    "my_path.sink(print)\n",
    "\n",
    "def inner_dir(x):\n",
    "    p = Path(x)\n",
    "    return [str(i) for i in p.iterdir()]\n",
    "        \n",
    "content = my_path.filter(lambda x: Path(x).is_dir())\n",
    "links = content.map(inner_dir).flatten()\n",
    "links.connect(source)  # pipe new links back into pages\n",
    "\n",
    "source.emit('./')"
   ]
  },
  {
   "cell_type": "markdown",
   "metadata": {},
   "source": [
    "## 结合dask的实时流处理\n",
    "\n",
    "最基础的流处理就是来一条处理一条的实时处理,这种模式模型最简单,但对系统的处理能力和网络io有较高要求,往往需要更多的资源.这个模式最知名的是storm框架.我们可以结合dask作为算力池直接利用集群算力来做实时流处理.\n",
    "\n",
    "\n",
    "在streamz框架下,我们使用`scatter()`接口提交计算图,使用`gather()`接收流结果"
   ]
  },
  {
   "cell_type": "markdown",
   "metadata": {},
   "source": [
    "### 同步写法"
   ]
  },
  {
   "cell_type": "code",
   "execution_count": 10,
   "metadata": {},
   "outputs": [],
   "source": [
    "def increment(x):\n",
    "    \"\"\" A blocking increment function\n",
    "\n",
    "    Simulates a computational function that was not designed to work\n",
    "    asynchronously\n",
    "    \"\"\"\n",
    "    time.sleep(0.1)\n",
    "    return x + 1\n",
    "\n",
    "\n",
    "def write(x):\n",
    "    print(x)\n"
   ]
  },
  {
   "cell_type": "code",
   "execution_count": 11,
   "metadata": {},
   "outputs": [
    {
     "name": "stdout",
     "output_type": "stream",
     "text": [
      "1\n",
      "2\n",
      "3\n",
      "4\n",
      "5\n",
      "6\n",
      "7\n",
      "8\n",
      "9\n",
      "10\n"
     ]
    }
   ],
   "source": [
    "from dask.distributed import Client\n",
    "client = Client(\"localhost:8786\",processes=False) \n",
    "from streamz import Stream\n",
    "\n",
    "source = Stream()\n",
    "(source.scatter()       # scatter local elements to cluster, creating a DaskStream\n",
    "       .map(increment)  # map a function remotely\n",
    "       .buffer(5)       # allow five futures to stay on the cluster at any time\n",
    "       .gather()        # bring results back to local process\n",
    "       .sink(write))    # call write locally\n",
    "\n",
    "for x in range(10):\n",
    "    source.emit(x)"
   ]
  },
  {
   "cell_type": "markdown",
   "metadata": {},
   "source": [
    "### 异步写法\n",
    "\n",
    "异步写法下,`sink`接口的参数可以是一个协程函数"
   ]
  },
  {
   "cell_type": "code",
   "execution_count": 8,
   "metadata": {},
   "outputs": [
    {
     "name": "stdout",
     "output_type": "stream",
     "text": [
      "Overwriting code/streaming/streaming_async.py\n"
     ]
    }
   ],
   "source": [
    "%%writefile  code/streaming/streaming_async.py\n",
    "import asyncio\n",
    "import time\n",
    "from dask.distributed import Client\n",
    "from streamz import Stream\n",
    "\n",
    "\n",
    "def increment(x):\n",
    "    \"\"\" A blocking increment function\n",
    "\n",
    "    Simulates a computational function that was not designed to work\n",
    "    asynchronously\n",
    "    \"\"\"\n",
    "    time.sleep(0.1)\n",
    "    return x + 1\n",
    "\n",
    "\n",
    "async def write(x):\n",
    "    print(x)\n",
    "\n",
    "\n",
    "async def f():\n",
    "    client = await Client(\"localhost:8786\", processes=False, asynchronous=True)\n",
    "    source = Stream(asynchronous=True)\n",
    "    source.scatter().map(increment).rate_limit('500ms').gather().sink(write)\n",
    "\n",
    "    for x in range(10):\n",
    "        await source.emit(x)\n",
    "\n",
    "if __name__ == '__main__':\n",
    "    asyncio.get_event_loop().run_until_complete(f())"
   ]
  },
  {
   "cell_type": "markdown",
   "metadata": {},
   "source": [
    "## 批处理\n",
    "\n",
    "更加常见的场景是使用流做批处理,我们当然可以直接使用上面的数据截断缓存方法来构造批数据,然后使用python函数处理.但显然这并不高效优雅.\n",
    "\n",
    "另一种方式则是使用streamz提供的两种流数据结构\n",
    "\n",
    "\n",
    "### batch结构\n",
    "\n",
    "\n",
    "batch结构用于构造由python数组组成的批数据,"
   ]
  },
  {
   "cell_type": "code",
   "execution_count": 21,
   "metadata": {},
   "outputs": [
    {
     "name": "stdout",
     "output_type": "stream",
     "text": [
      "[{\"name\": \"Alice\", \"x\": 1, \"y\": 2}]\n"
     ]
    }
   ],
   "source": [
    "from dask.distributed import Client\n",
    "import json\n",
    "from streamz import Stream\n",
    "client = Client(\"localhost:8786\",processes=False) \n",
    "stream = Stream()\n",
    "example = [{'name': 'Alice', 'x': 1, 'y': 2}]\n",
    "batch = stream.to_batch(example=example)\n",
    "batch.stream.scatter().map(json.dumps).gather().sink(print)\n",
    "\n",
    "batch.emit(example)"
   ]
  },
  {
   "cell_type": "markdown",
   "metadata": {},
   "source": [
    "### dataframe结构,借助pandas,dask,甚至cupy"
   ]
  },
  {
   "cell_type": "code",
   "execution_count": 8,
   "metadata": {},
   "outputs": [
    {
     "name": "stdout",
     "output_type": "stream",
     "text": [
      "0     4\n",
      "1     7\n",
      "2    12\n",
      "Name: x, dtype: int64\n"
     ]
    }
   ],
   "source": [
    "import pandas as pd\n",
    "from streamz import Stream\n",
    "from streamz.dataframe import DataFrame\n",
    "stream = Stream()\n",
    "df_sample = pd.DataFrame({'x': [1, 2, 3], 'y': [4, 5, 6]})\n",
    "sdf = DataFrame(example=df_sample, stream=stream)\n",
    "\n",
    "L = sdf.stream.scatter().map(lambda x: x[\"x\"]**2+3).gather().sink(print)\n",
    "\n",
    "sdf.emit(df_sample)"
   ]
  },
  {
   "cell_type": "markdown",
   "metadata": {},
   "source": [
    "dataframe只能处理结构化数据,这个例子中我们首先使用pandas构造了一个dataframe的Scheme(设计方案),`df_sample`,后续的所有使用`emit`传入的dataframe就固定好了从流中解析出的是这个样式.这个例子可以看出我们可以构造数据类型`dataframe`来做批处理,但如何构造批呢?"
   ]
  },
  {
   "cell_type": "markdown",
   "metadata": {},
   "source": [
    "### 将流构造为批进行批处理\n",
    "\n",
    "我们可以一批一批的处理数据了,但流并不会自己成为批数据,这时候我们就可以使用前面提到的`截断缓存流`数据的方法构造批数据了.这边以`partition`方法为例.\n",
    "\n",
    "下面的例子的过程如下:\n",
    "\n",
    "1. 我们使用`partition(5)`将流截断缓存为3个一组,再将这5个一组的流转换为批对象,接着将批对象转换为dataframe,然后用dataframe的接口求取每5个的value字段的均值.这定义了流数据批处理的整个过程\n",
    "\n",
    "2. 在构造好这个处理流程后,我们提出流程的`stream`对象,定义它的数据提交,收集和下沉过程.\n",
    "\n",
    "3. 最后我们向流对象中喂入数据."
   ]
  },
  {
   "cell_type": "code",
   "execution_count": 5,
   "metadata": {},
   "outputs": [
    {
     "name": "stdout",
     "output_type": "stream",
     "text": [
      "64.8\n",
      "65.5\n",
      "67.53333333333333\n",
      "65.8\n",
      "64.84\n",
      "68.76666666666667\n",
      "71.2\n",
      "70.75\n",
      "68.31111111111112\n",
      "66.8\n",
      "65.89090909090909\n",
      "65.71666666666667\n",
      "65.8\n",
      "66.48571428571428\n",
      "64.88\n",
      "63.675\n",
      "64.0\n",
      "64.17777777777778\n",
      "63.61052631578947\n",
      "63.11\n"
     ]
    }
   ],
   "source": [
    "import pandas as pd\n",
    "import random\n",
    "from streamz import Stream\n",
    "from dask.distributed import Client\n",
    "from streamz.dataframe import DataFrame\n",
    "# 定义流\n",
    "client = Client(\"localhost:8786\",processes=False) \n",
    "stream = Stream()\n",
    "\n",
    "# 定义批处理过程\n",
    "keys = [\"a\",\"b\",\"c\"]\n",
    "batch_sample = [{'key': \"a\", 'value': 20}]\n",
    "batch = stream.partition(5).to_batch(example=batch_sample)\n",
    "sdf = batch.to_dataframe()\n",
    "process = sdf.value.mean()\n",
    "\n",
    "# 定义数据提交,收集,下沉过程\n",
    "process.stream.scatter().gather().sink(print)\n",
    "\n",
    "# 向流中注入数据\n",
    "for i in range(100):\n",
    "    stream.emit({\"key\":random.choice(keys),\"value\":random.randint(20,100)})"
   ]
  }
 ],
 "metadata": {
  "kernelspec": {
   "display_name": "Python 3",
   "language": "python",
   "name": "python3"
  },
  "language_info": {
   "codemirror_mode": {
    "name": "ipython",
    "version": 3
   },
   "file_extension": ".py",
   "mimetype": "text/x-python",
   "name": "python",
   "nbconvert_exporter": "python",
   "pygments_lexer": "ipython3",
   "version": "3.7.3"
  }
 },
 "nbformat": 4,
 "nbformat_minor": 2
}
