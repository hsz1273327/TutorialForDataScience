{
 "cells": [
  {
   "cell_type": "markdown",
   "metadata": {},
   "source": [
    "# 时间序列\n",
    "\n",
    "pandas的一个特色就是时间序列操作.所谓时间序列可以理解为index为时间信息的序列对象(有时是数据框)."
   ]
  },
  {
   "cell_type": "code",
   "execution_count": 4,
   "metadata": {},
   "outputs": [],
   "source": [
    "import pandas as pd\n",
    "import numpy as np\n",
    "import matplotlib.pyplot as plt\n",
    "%matplotlib inline"
   ]
  },
  {
   "cell_type": "markdown",
   "metadata": {},
   "source": [
    "## 生成时间序列\n",
    "\n",
    "pandas提供了时间序列的生成函数`pd.date_range(start=None, end=None, periods=None, freq=None, tz=None, normalize=False, name=None, closed=None, **kwargs)[source])`可以像python使用range生成整数序列一样生成时间序列(DatetimeIndex类型),\n",
    "\n",
    "其中\n",
    "\n",
    "+ `end`/`start`和`periods`不共存,`start`,`end`标明起止日期,`periods`标明延续时常.用`periods`的话`end`/`start`必须只存在一个\n",
    "+ `freq`定义间隔,参数为字符串形式,可以指定单位,比如`5H`,`3D`,具体由哪些单位可以看[这里](https://pandas.pydata.org/pandas-docs/stable/user_guide/timeseries.html#timeseries-offset-aliases)"
   ]
  },
  {
   "cell_type": "code",
   "execution_count": 5,
   "metadata": {},
   "outputs": [
    {
     "data": {
      "text/plain": [
       "DatetimeIndex(['2018-01-01', '2018-01-02', '2018-01-03', '2018-01-04',\n",
       "               '2018-01-05', '2018-01-06', '2018-01-07', '2018-01-08'],\n",
       "              dtype='datetime64[ns]', freq='D')"
      ]
     },
     "execution_count": 5,
     "metadata": {},
     "output_type": "execute_result"
    }
   ],
   "source": [
    "pd.date_range(start='1/1/2018', end='1/08/2018')"
   ]
  },
  {
   "cell_type": "code",
   "execution_count": 6,
   "metadata": {},
   "outputs": [
    {
     "data": {
      "text/plain": [
       "DatetimeIndex(['2018-01-31', '2018-04-30', '2018-07-31', '2018-10-31',\n",
       "               '2019-01-31'],\n",
       "              dtype='datetime64[ns]', freq='3M')"
      ]
     },
     "execution_count": 6,
     "metadata": {},
     "output_type": "execute_result"
    }
   ],
   "source": [
    "pd.date_range(start='1/1/2018', periods=5, freq='3M')"
   ]
  },
  {
   "cell_type": "markdown",
   "metadata": {},
   "source": [
    "通常生成的时间序列都是给Series或者Dataframe做index的,"
   ]
  },
  {
   "cell_type": "code",
   "execution_count": 8,
   "metadata": {},
   "outputs": [],
   "source": [
    "index = pd.date_range(start='1/1/2018', end='1/08/2018')"
   ]
  },
  {
   "cell_type": "code",
   "execution_count": 9,
   "metadata": {},
   "outputs": [
    {
     "data": {
      "text/plain": [
       "2018-01-01    5\n",
       "2018-01-02    5\n",
       "2018-01-03    5\n",
       "2018-01-04    5\n",
       "2018-01-05    5\n",
       "2018-01-06    5\n",
       "2018-01-07    5\n",
       "2018-01-08    5\n",
       "Freq: D, dtype: int64"
      ]
     },
     "execution_count": 9,
     "metadata": {},
     "output_type": "execute_result"
    }
   ],
   "source": [
    "pd.Series(5,index=index)"
   ]
  },
  {
   "cell_type": "markdown",
   "metadata": {},
   "source": [
    "## 转化时间序列\n",
    "\n",
    "pandas提供了函数`.to_datetime()`可以将由各种时间信息组成的序列转化成时间序列"
   ]
  },
  {
   "cell_type": "code",
   "execution_count": 10,
   "metadata": {},
   "outputs": [],
   "source": [
    "import datetime\n",
    "import time"
   ]
  },
  {
   "cell_type": "code",
   "execution_count": 19,
   "metadata": {},
   "outputs": [
    {
     "data": {
      "text/plain": [
       "DatetimeIndex(['2018-01-01', '2018-01-01'], dtype='datetime64[ns]', freq=None)"
      ]
     },
     "execution_count": 19,
     "metadata": {},
     "output_type": "execute_result"
    }
   ],
   "source": [
    "pd.to_datetime([np.datetime64('2018-01-01'),datetime.datetime(2018, 1, 1)]) # 处理datetime类型"
   ]
  },
  {
   "cell_type": "code",
   "execution_count": 20,
   "metadata": {},
   "outputs": [
    {
     "data": {
      "text/plain": [
       "DatetimeIndex(['2018-01-01', '2018-01-02', '2018-01-03'], dtype='datetime64[ns]', freq=None)"
      ]
     },
     "execution_count": 20,
     "metadata": {},
     "output_type": "execute_result"
    }
   ],
   "source": [
    "pd.to_datetime(['1/1/2018','1/2/2018','1/3/2018'],format='%m/%d/%Y') # 处理字符串"
   ]
  },
  {
   "cell_type": "code",
   "execution_count": 16,
   "metadata": {},
   "outputs": [
    {
     "data": {
      "text/plain": [
       "DatetimeIndex(['2012-10-08 18:15:05', '2012-10-09 18:15:05',\n",
       "               '2012-10-10 18:15:05', '2012-10-11 18:15:05',\n",
       "               '2012-10-12 18:15:05'],\n",
       "              dtype='datetime64[ns]', freq=None)"
      ]
     },
     "execution_count": 16,
     "metadata": {},
     "output_type": "execute_result"
    }
   ],
   "source": [
    "pd.to_datetime([1349720105, 1349806505, 1349892905,1349979305, 1350065705], unit='s') # 处理时间戳"
   ]
  },
  {
   "cell_type": "markdown",
   "metadata": {},
   "source": [
    "## 提取指定时间段内的数据"
   ]
  },
  {
   "cell_type": "code",
   "execution_count": 21,
   "metadata": {},
   "outputs": [
    {
     "data": {
      "text/plain": [
       "2000-01-01   -0.995419\n",
       "2000-01-02    0.299803\n",
       "2000-01-03   -0.688532\n",
       "2000-01-04    1.019509\n",
       "2000-01-05    1.080041\n",
       "2000-01-06    0.949750\n",
       "2000-01-07   -0.049066\n",
       "2000-01-08   -0.704941\n",
       "2000-01-09    1.324811\n",
       "2000-01-10    0.036751\n",
       "Freq: D, dtype: float64"
      ]
     },
     "execution_count": 21,
     "metadata": {},
     "output_type": "execute_result"
    }
   ],
   "source": [
    "s = pd.Series(np.random.randn(1000), index=pd.date_range('1/1/2000', periods=1000))\n",
    "s[:10]"
   ]
  },
  {
   "cell_type": "code",
   "execution_count": 24,
   "metadata": {},
   "outputs": [
    {
     "data": {
      "text/plain": [
       "2000-01-01   -0.995419\n",
       "2000-01-02    0.299803\n",
       "2000-01-03   -0.688532\n",
       "2000-01-04    1.019509\n",
       "2000-01-05    1.080041\n",
       "2000-01-06    0.949750\n",
       "2000-01-07   -0.049066\n",
       "2000-01-08   -0.704941\n",
       "2000-01-09    1.324811\n",
       "2000-01-10    0.036751\n",
       "Freq: D, dtype: float64"
      ]
     },
     "execution_count": 24,
     "metadata": {},
     "output_type": "execute_result"
    }
   ],
   "source": [
    "s[\"2000\"][:10] #取同一年"
   ]
  },
  {
   "cell_type": "code",
   "execution_count": 26,
   "metadata": {},
   "outputs": [
    {
     "data": {
      "text/plain": [
       "2000-01-01   -0.995419\n",
       "2000-01-02    0.299803\n",
       "2000-01-03   -0.688532\n",
       "2000-01-04    1.019509\n",
       "2000-01-05    1.080041\n",
       "2000-01-06    0.949750\n",
       "2000-01-07   -0.049066\n",
       "2000-01-08   -0.704941\n",
       "2000-01-09    1.324811\n",
       "2000-01-10    0.036751\n",
       "2000-01-11   -1.154498\n",
       "2000-01-12   -0.079264\n",
       "2000-01-13    0.160674\n",
       "2000-01-14    0.049950\n",
       "2000-01-15   -0.901635\n",
       "2000-01-16    1.255930\n",
       "2000-01-17   -0.608129\n",
       "2000-01-18    0.208124\n",
       "2000-01-19    0.585852\n",
       "2000-01-20   -0.304601\n",
       "2000-01-21   -0.376128\n",
       "2000-01-22    0.564078\n",
       "2000-01-23   -0.703543\n",
       "2000-01-24    1.595288\n",
       "2000-01-25   -0.360244\n",
       "2000-01-26    0.442470\n",
       "2000-01-27    0.532481\n",
       "2000-01-28    0.319283\n",
       "2000-01-29   -1.402987\n",
       "2000-01-30    0.716361\n",
       "2000-01-31   -1.190318\n",
       "Freq: D, dtype: float64"
      ]
     },
     "execution_count": 26,
     "metadata": {},
     "output_type": "execute_result"
    }
   ],
   "source": [
    "s[\"2000-01\"][:40] # 取某年某月"
   ]
  },
  {
   "cell_type": "code",
   "execution_count": 29,
   "metadata": {},
   "outputs": [
    {
     "data": {
      "text/plain": [
       "2000-01-28    0.319283\n",
       "2000-01-29   -1.402987\n",
       "2000-01-30    0.716361\n",
       "2000-01-31   -1.190318\n",
       "2000-02-01   -1.807341\n",
       "2000-02-02   -0.954533\n",
       "2000-02-03   -0.188877\n",
       "Freq: D, dtype: float64"
      ]
     },
     "execution_count": 29,
     "metadata": {},
     "output_type": "execute_result"
    }
   ],
   "source": [
    "s['2000-1-28':'2000-2-3'] #一段日期"
   ]
  },
  {
   "cell_type": "code",
   "execution_count": 30,
   "metadata": {},
   "outputs": [
    {
     "data": {
      "text/plain": [
       "0.31928275714561777"
      ]
     },
     "execution_count": 30,
     "metadata": {},
     "output_type": "execute_result"
    }
   ],
   "source": [
    "s['2000-1-28'] # 某一天"
   ]
  },
  {
   "cell_type": "markdown",
   "metadata": {},
   "source": [
    "## 窗口函数\n",
    "\n",
    "对于处理时间序列数据,pandas提供了许多窗口函数用于计算公共窗口或滚动统计.其中包括计数,总和,平均值,中值,相关性,方差,协方差,标准偏差,偏度和峰度.\n",
    "\n",
    "我们使用`rolling`,`.expanding `,`ewm` 对数据进行相应的处理\n",
    "\n",
    "这三个函数的用法和groupby很像,他们的构造函数通常这些方法都有相同的接口.\n",
    "他们都接受以下参数:\n",
    "\n",
    "+ window:移动窗口的大小\n",
    "+ min_periods:要求非空数据点的阈值（否则结果为NA）\n",
    "+ center:boolean，是否在中间设置标签（默认为False）\n",
    "+ axis"
   ]
  },
  {
   "cell_type": "markdown",
   "metadata": {},
   "source": [
    "### rolling函数\n",
    "\n",
    "`rolling(window,min_periods,center,axis)`"
   ]
  },
  {
   "cell_type": "code",
   "execution_count": 2,
   "metadata": {},
   "outputs": [
    {
     "data": {
      "text/plain": [
       "2000-01-01    1.061108\n",
       "2000-01-02    1.143829\n",
       "2000-01-03    0.042465\n",
       "2000-01-04   -1.061528\n",
       "2000-01-05   -1.251423\n",
       "Freq: D, dtype: float64"
      ]
     },
     "execution_count": 2,
     "metadata": {},
     "output_type": "execute_result"
    }
   ],
   "source": [
    "s = pd.Series(np.random.randn(1000), index=pd.date_range('1/1/2000', periods=1000))\n",
    "s = s.cumsum()\n",
    "s[:5]"
   ]
  },
  {
   "cell_type": "code",
   "execution_count": 3,
   "metadata": {},
   "outputs": [
    {
     "data": {
      "text/plain": [
       "Rolling [window=10,center=False,axis=0]"
      ]
     },
     "execution_count": 3,
     "metadata": {},
     "output_type": "execute_result"
    }
   ],
   "source": [
    "r = s.rolling(window=10)\n",
    "r"
   ]
  },
  {
   "cell_type": "code",
   "execution_count": 4,
   "metadata": {},
   "outputs": [
    {
     "data": {
      "text/plain": [
       "2000-01-01         NaN\n",
       "2000-01-02         NaN\n",
       "2000-01-03         NaN\n",
       "2000-01-04         NaN\n",
       "2000-01-05         NaN\n",
       "2000-01-06         NaN\n",
       "2000-01-07         NaN\n",
       "2000-01-08         NaN\n",
       "2000-01-09         NaN\n",
       "2000-01-10    0.012929\n",
       "2000-01-11    0.016536\n",
       "2000-01-12    0.089529\n",
       "2000-01-13    0.187641\n",
       "2000-01-14    0.418945\n",
       "2000-01-15    0.637028\n",
       "2000-01-16    0.568675\n",
       "2000-01-17    0.767808\n",
       "2000-01-18    0.934924\n",
       "2000-01-19    1.320222\n",
       "2000-01-20    1.503517\n",
       "Freq: D, dtype: float64"
      ]
     },
     "execution_count": 4,
     "metadata": {},
     "output_type": "execute_result"
    }
   ],
   "source": [
    "r.mean()[:20]"
   ]
  },
  {
   "cell_type": "code",
   "execution_count": 5,
   "metadata": {},
   "outputs": [
    {
     "data": {
      "text/plain": [
       "<matplotlib.axes._subplots.AxesSubplot at 0x115034978>"
      ]
     },
     "execution_count": 5,
     "metadata": {},
     "output_type": "execute_result"
    },
    {
     "data": {
      "image/png": "[encoded data removed]",
      "text/plain": [
       "<Figure size 432x288 with 1 Axes>"
      ]
     },
     "metadata": {
      "needs_background": "light"
     },
     "output_type": "display_data"
    }
   ],
   "source": [
    "s.plot()\n",
    "r.mean().plot(style='k')"
   ]
  },
  {
   "cell_type": "code",
   "execution_count": 6,
   "metadata": {},
   "outputs": [
    {
     "data": {
      "text/plain": [
       "array([<matplotlib.axes._subplots.AxesSubplot object at 0x1156770f0>,\n",
       "       <matplotlib.axes._subplots.AxesSubplot object at 0x1157c3390>,\n",
       "       <matplotlib.axes._subplots.AxesSubplot object at 0x115770a90>,\n",
       "       <matplotlib.axes._subplots.AxesSubplot object at 0x1158286a0>],\n",
       "      dtype=object)"
      ]
     },
     "execution_count": 6,
     "metadata": {},
     "output_type": "execute_result"
    },
    {
     "data": {
      "image/png": "[encoded data removed]",
      "text/plain": [
       "<Figure size 432x288 with 4 Axes>"
      ]
     },
     "metadata": {
      "needs_background": "light"
     },
     "output_type": "display_data"
    },
    {
     "data": {
      "image/png": "[encoded data removed]",
      "text/plain": [
       "<Figure size 432x288 with 4 Axes>"
      ]
     },
     "metadata": {
      "needs_background": "light"
     },
     "output_type": "display_data"
    }
   ],
   "source": [
    "df = pd.DataFrame(np.random.randn(1000, 4),\n",
    "                  index=pd.date_range('1/1/2000', periods=1000),\n",
    "                  columns=['A', 'B', 'C', 'D'])\n",
    "\n",
    "df = df.cumsum()\n",
    "df.rolling(window=60).sum().plot(subplots=True)\n",
    "df.plot(subplots=True)"
   ]
  },
  {
   "cell_type": "markdown",
   "metadata": {},
   "source": [
    "### 使用自定义的方法 "
   ]
  },
  {
   "cell_type": "code",
   "execution_count": 7,
   "metadata": {},
   "outputs": [
    {
     "data": {
      "text/plain": [
       "<matplotlib.axes._subplots.AxesSubplot at 0x1159dbb38>"
      ]
     },
     "execution_count": 7,
     "metadata": {},
     "output_type": "execute_result"
    },
    {
     "data": {
      "image/png": "[encoded data removed]",
      "text/plain": [
       "<Figure size 432x288 with 1 Axes>"
      ]
     },
     "metadata": {
      "needs_background": "light"
     },
     "output_type": "display_data"
    }
   ],
   "source": [
    "s.rolling(window=60).apply(lambda x: np.fabs(x - x.mean()).mean(),raw=True).plot(style='k')"
   ]
  },
  {
   "cell_type": "markdown",
   "metadata": {},
   "source": [
    "rolling有一个特有关键字win_type,它表示窗口的类型,公认类型有:\n",
    "+ boxcar\n",
    "+ triang\n",
    "+ blackman\n",
    "+ hamming\n",
    "+ bartlett\n",
    "+ parzen\n",
    "+ bohman\n",
    "+ blackmanharris\n",
    "+ nuttall\n",
    "+ barthann\n",
    "+ kaiser (需要beta参数)\n",
    "+ gaussian (需要std参数)\n",
    "+ general_gaussian (需要 power, width参数)\n",
    "+ slepian (需要width参数)."
   ]
  },
  {
   "cell_type": "code",
   "execution_count": 8,
   "metadata": {},
   "outputs": [
    {
     "data": {
      "text/plain": [
       "2000-01-01         NaN\n",
       "2000-01-02         NaN\n",
       "2000-01-03         NaN\n",
       "2000-01-04         NaN\n",
       "2000-01-05   -1.049692\n",
       "2000-01-06   -1.115787\n",
       "2000-01-07   -0.666003\n",
       "2000-01-08   -0.149324\n",
       "2000-01-09   -0.064220\n",
       "2000-01-10   -0.378598\n",
       "Freq: D, dtype: float64"
      ]
     },
     "execution_count": 8,
     "metadata": {},
     "output_type": "execute_result"
    }
   ],
   "source": [
    "ser = pd.Series(np.random.randn(10), index=pd.date_range('1/1/2000', periods=10))\n",
    "ser.rolling(window=5, win_type='triang').mean()"
   ]
  },
  {
   "cell_type": "code",
   "execution_count": 9,
   "metadata": {},
   "outputs": [
    {
     "data": {
      "text/plain": [
       "2000-01-01         NaN\n",
       "2000-01-02         NaN\n",
       "2000-01-03         NaN\n",
       "2000-01-04         NaN\n",
       "2000-01-05   -0.898436\n",
       "2000-01-06   -0.869136\n",
       "2000-01-07   -0.524903\n",
       "2000-01-08   -0.427698\n",
       "2000-01-09   -0.414232\n",
       "2000-01-10   -0.242575\n",
       "Freq: D, dtype: float64"
      ]
     },
     "execution_count": 9,
     "metadata": {},
     "output_type": "execute_result"
    }
   ],
   "source": [
    "ser.rolling(window=5, win_type='boxcar').mean()"
   ]
  },
  {
   "cell_type": "code",
   "execution_count": 10,
   "metadata": {},
   "outputs": [
    {
     "data": {
      "text/plain": [
       "2000-01-01         NaN\n",
       "2000-01-02         NaN\n",
       "2000-01-03         NaN\n",
       "2000-01-04         NaN\n",
       "2000-01-05   -1.169154\n",
       "2000-01-06   -1.717525\n",
       "2000-01-07   -1.092201\n",
       "2000-01-08    0.532417\n",
       "2000-01-09    0.821946\n",
       "2000-01-10   -0.683129\n",
       "Freq: D, dtype: float64"
      ]
     },
     "execution_count": 10,
     "metadata": {},
     "output_type": "execute_result"
    }
   ],
   "source": [
    "ser.rolling(window=5, win_type='gaussian').mean(std=0.1)"
   ]
  },
  {
   "cell_type": "markdown",
   "metadata": {},
   "source": [
    "#### 时间感知滚动\n",
    "\n",
    "这对于非规则的时间频率指数特别有用。第一个参数使用字符串表示时间间隔即可"
   ]
  },
  {
   "cell_type": "code",
   "execution_count": 11,
   "metadata": {},
   "outputs": [
    {
     "data": {
      "text/html": [
       "<div>\n",
       "<style scoped>\n",
       "    .dataframe tbody tr th:only-of-type {\n",
       "        vertical-align: middle;\n",
       "    }\n",
       "\n",
       "    .dataframe tbody tr th {\n",
       "        vertical-align: top;\n",
       "    }\n",
       "\n",
       "    .dataframe thead th {\n",
       "        text-align: right;\n",
       "    }\n",
       "</style>\n",
       "<table border=\"1\" class=\"dataframe\">\n",
       "  <thead>\n",
       "    <tr style=\"text-align: right;\">\n",
       "      <th></th>\n",
       "      <th>B</th>\n",
       "    </tr>\n",
       "  </thead>\n",
       "  <tbody>\n",
       "    <tr>\n",
       "      <th>2013-01-01 09:00:00</th>\n",
       "      <td>0.0</td>\n",
       "    </tr>\n",
       "    <tr>\n",
       "      <th>2013-01-01 09:00:01</th>\n",
       "      <td>1.0</td>\n",
       "    </tr>\n",
       "    <tr>\n",
       "      <th>2013-01-01 09:00:02</th>\n",
       "      <td>2.0</td>\n",
       "    </tr>\n",
       "    <tr>\n",
       "      <th>2013-01-01 09:00:03</th>\n",
       "      <td>NaN</td>\n",
       "    </tr>\n",
       "    <tr>\n",
       "      <th>2013-01-01 09:00:04</th>\n",
       "      <td>4.0</td>\n",
       "    </tr>\n",
       "  </tbody>\n",
       "</table>\n",
       "</div>"
      ],
      "text/plain": [
       "                       B\n",
       "2013-01-01 09:00:00  0.0\n",
       "2013-01-01 09:00:01  1.0\n",
       "2013-01-01 09:00:02  2.0\n",
       "2013-01-01 09:00:03  NaN\n",
       "2013-01-01 09:00:04  4.0"
      ]
     },
     "execution_count": 11,
     "metadata": {},
     "output_type": "execute_result"
    }
   ],
   "source": [
    "dft = pd.DataFrame({'B': [0, 1, 2, np.nan, 4]},\n",
    "                   index=pd.date_range('20130101 09:00:00', periods=5, freq='s'))\n",
    "dft"
   ]
  },
  {
   "cell_type": "code",
   "execution_count": 12,
   "metadata": {},
   "outputs": [
    {
     "data": {
      "text/html": [
       "<div>\n",
       "<style scoped>\n",
       "    .dataframe tbody tr th:only-of-type {\n",
       "        vertical-align: middle;\n",
       "    }\n",
       "\n",
       "    .dataframe tbody tr th {\n",
       "        vertical-align: top;\n",
       "    }\n",
       "\n",
       "    .dataframe thead th {\n",
       "        text-align: right;\n",
       "    }\n",
       "</style>\n",
       "<table border=\"1\" class=\"dataframe\">\n",
       "  <thead>\n",
       "    <tr style=\"text-align: right;\">\n",
       "      <th></th>\n",
       "      <th>B</th>\n",
       "    </tr>\n",
       "  </thead>\n",
       "  <tbody>\n",
       "    <tr>\n",
       "      <th>2013-01-01 09:00:00</th>\n",
       "      <td>0.0</td>\n",
       "    </tr>\n",
       "    <tr>\n",
       "      <th>2013-01-01 09:00:01</th>\n",
       "      <td>1.0</td>\n",
       "    </tr>\n",
       "    <tr>\n",
       "      <th>2013-01-01 09:00:02</th>\n",
       "      <td>3.0</td>\n",
       "    </tr>\n",
       "    <tr>\n",
       "      <th>2013-01-01 09:00:03</th>\n",
       "      <td>2.0</td>\n",
       "    </tr>\n",
       "    <tr>\n",
       "      <th>2013-01-01 09:00:04</th>\n",
       "      <td>4.0</td>\n",
       "    </tr>\n",
       "  </tbody>\n",
       "</table>\n",
       "</div>"
      ],
      "text/plain": [
       "                       B\n",
       "2013-01-01 09:00:00  0.0\n",
       "2013-01-01 09:00:01  1.0\n",
       "2013-01-01 09:00:02  3.0\n",
       "2013-01-01 09:00:03  2.0\n",
       "2013-01-01 09:00:04  4.0"
      ]
     },
     "execution_count": 12,
     "metadata": {},
     "output_type": "execute_result"
    }
   ],
   "source": [
    "dft.rolling('2s').sum()"
   ]
  },
  {
   "cell_type": "markdown",
   "metadata": {},
   "source": [
    "#### 计算窗口的cov() 和 corr() \n",
    "\n",
    "在金融数据分析和其他领域中,通常对于时间序列的集合计算协方差和相关矩阵.通常人们也对移动窗协方差和相关矩阵感兴趣.这可以通过传递`pairwise`关键字参数来实现,在DataFrame输入的情况下,将产生一个Panel,其中的items是有问题的日期.在单个DataFrame参数的情况下,成对参数甚至可以省略\n"
   ]
  },
  {
   "cell_type": "code",
   "execution_count": 13,
   "metadata": {},
   "outputs": [
    {
     "data": {
      "text/html": [
       "<div>\n",
       "<style scoped>\n",
       "    .dataframe tbody tr th:only-of-type {\n",
       "        vertical-align: middle;\n",
       "    }\n",
       "\n",
       "    .dataframe tbody tr th {\n",
       "        vertical-align: top;\n",
       "    }\n",
       "\n",
       "    .dataframe thead th {\n",
       "        text-align: right;\n",
       "    }\n",
       "</style>\n",
       "<table border=\"1\" class=\"dataframe\">\n",
       "  <thead>\n",
       "    <tr style=\"text-align: right;\">\n",
       "      <th></th>\n",
       "      <th>A</th>\n",
       "      <th>B</th>\n",
       "      <th>C</th>\n",
       "      <th>D</th>\n",
       "    </tr>\n",
       "  </thead>\n",
       "  <tbody>\n",
       "    <tr>\n",
       "      <th>2000-01-01</th>\n",
       "      <td>NaN</td>\n",
       "      <td>NaN</td>\n",
       "      <td>NaN</td>\n",
       "      <td>NaN</td>\n",
       "    </tr>\n",
       "    <tr>\n",
       "      <th>2000-01-02</th>\n",
       "      <td>NaN</td>\n",
       "      <td>NaN</td>\n",
       "      <td>NaN</td>\n",
       "      <td>NaN</td>\n",
       "    </tr>\n",
       "    <tr>\n",
       "      <th>2000-01-03</th>\n",
       "      <td>NaN</td>\n",
       "      <td>NaN</td>\n",
       "      <td>NaN</td>\n",
       "      <td>NaN</td>\n",
       "    </tr>\n",
       "    <tr>\n",
       "      <th>2000-01-04</th>\n",
       "      <td>NaN</td>\n",
       "      <td>NaN</td>\n",
       "      <td>NaN</td>\n",
       "      <td>NaN</td>\n",
       "    </tr>\n",
       "    <tr>\n",
       "      <th>2000-01-05</th>\n",
       "      <td>-0.013771</td>\n",
       "      <td>1.0</td>\n",
       "      <td>0.051814</td>\n",
       "      <td>0.294500</td>\n",
       "    </tr>\n",
       "    <tr>\n",
       "      <th>2000-01-06</th>\n",
       "      <td>-0.153475</td>\n",
       "      <td>1.0</td>\n",
       "      <td>0.209701</td>\n",
       "      <td>0.729156</td>\n",
       "    </tr>\n",
       "    <tr>\n",
       "      <th>2000-01-07</th>\n",
       "      <td>-0.378544</td>\n",
       "      <td>1.0</td>\n",
       "      <td>0.497041</td>\n",
       "      <td>0.714231</td>\n",
       "    </tr>\n",
       "    <tr>\n",
       "      <th>2000-01-08</th>\n",
       "      <td>-0.226850</td>\n",
       "      <td>1.0</td>\n",
       "      <td>0.581944</td>\n",
       "      <td>0.435943</td>\n",
       "    </tr>\n",
       "    <tr>\n",
       "      <th>2000-01-09</th>\n",
       "      <td>-0.068159</td>\n",
       "      <td>1.0</td>\n",
       "      <td>0.529225</td>\n",
       "      <td>0.394325</td>\n",
       "    </tr>\n",
       "    <tr>\n",
       "      <th>2000-01-10</th>\n",
       "      <td>-0.547704</td>\n",
       "      <td>1.0</td>\n",
       "      <td>-0.079096</td>\n",
       "      <td>-0.071999</td>\n",
       "    </tr>\n",
       "    <tr>\n",
       "      <th>2000-01-11</th>\n",
       "      <td>-0.664832</td>\n",
       "      <td>1.0</td>\n",
       "      <td>0.187738</td>\n",
       "      <td>-0.463042</td>\n",
       "    </tr>\n",
       "    <tr>\n",
       "      <th>2000-01-12</th>\n",
       "      <td>-0.829057</td>\n",
       "      <td>1.0</td>\n",
       "      <td>0.425534</td>\n",
       "      <td>-0.610106</td>\n",
       "    </tr>\n",
       "    <tr>\n",
       "      <th>2000-01-13</th>\n",
       "      <td>-0.837847</td>\n",
       "      <td>1.0</td>\n",
       "      <td>0.581573</td>\n",
       "      <td>0.119215</td>\n",
       "    </tr>\n",
       "    <tr>\n",
       "      <th>2000-01-14</th>\n",
       "      <td>-0.812830</td>\n",
       "      <td>1.0</td>\n",
       "      <td>0.323542</td>\n",
       "      <td>0.736338</td>\n",
       "    </tr>\n",
       "    <tr>\n",
       "      <th>2000-01-15</th>\n",
       "      <td>-0.931585</td>\n",
       "      <td>1.0</td>\n",
       "      <td>-0.032185</td>\n",
       "      <td>0.627065</td>\n",
       "    </tr>\n",
       "    <tr>\n",
       "      <th>2000-01-16</th>\n",
       "      <td>-0.740344</td>\n",
       "      <td>1.0</td>\n",
       "      <td>-0.074195</td>\n",
       "      <td>0.523123</td>\n",
       "    </tr>\n",
       "    <tr>\n",
       "      <th>2000-01-17</th>\n",
       "      <td>-0.303898</td>\n",
       "      <td>1.0</td>\n",
       "      <td>-0.688740</td>\n",
       "      <td>0.268439</td>\n",
       "    </tr>\n",
       "    <tr>\n",
       "      <th>2000-01-18</th>\n",
       "      <td>-0.111382</td>\n",
       "      <td>1.0</td>\n",
       "      <td>-0.268512</td>\n",
       "      <td>0.694223</td>\n",
       "    </tr>\n",
       "    <tr>\n",
       "      <th>2000-01-19</th>\n",
       "      <td>0.133870</td>\n",
       "      <td>1.0</td>\n",
       "      <td>-0.276746</td>\n",
       "      <td>0.469622</td>\n",
       "    </tr>\n",
       "    <tr>\n",
       "      <th>2000-01-20</th>\n",
       "      <td>0.116302</td>\n",
       "      <td>1.0</td>\n",
       "      <td>0.805018</td>\n",
       "      <td>0.616604</td>\n",
       "    </tr>\n",
       "  </tbody>\n",
       "</table>\n",
       "</div>"
      ],
      "text/plain": [
       "                   A    B         C         D\n",
       "2000-01-01       NaN  NaN       NaN       NaN\n",
       "2000-01-02       NaN  NaN       NaN       NaN\n",
       "2000-01-03       NaN  NaN       NaN       NaN\n",
       "2000-01-04       NaN  NaN       NaN       NaN\n",
       "2000-01-05 -0.013771  1.0  0.051814  0.294500\n",
       "2000-01-06 -0.153475  1.0  0.209701  0.729156\n",
       "2000-01-07 -0.378544  1.0  0.497041  0.714231\n",
       "2000-01-08 -0.226850  1.0  0.581944  0.435943\n",
       "2000-01-09 -0.068159  1.0  0.529225  0.394325\n",
       "2000-01-10 -0.547704  1.0 -0.079096 -0.071999\n",
       "2000-01-11 -0.664832  1.0  0.187738 -0.463042\n",
       "2000-01-12 -0.829057  1.0  0.425534 -0.610106\n",
       "2000-01-13 -0.837847  1.0  0.581573  0.119215\n",
       "2000-01-14 -0.812830  1.0  0.323542  0.736338\n",
       "2000-01-15 -0.931585  1.0 -0.032185  0.627065\n",
       "2000-01-16 -0.740344  1.0 -0.074195  0.523123\n",
       "2000-01-17 -0.303898  1.0 -0.688740  0.268439\n",
       "2000-01-18 -0.111382  1.0 -0.268512  0.694223\n",
       "2000-01-19  0.133870  1.0 -0.276746  0.469622\n",
       "2000-01-20  0.116302  1.0  0.805018  0.616604"
      ]
     },
     "execution_count": 13,
     "metadata": {},
     "output_type": "execute_result"
    }
   ],
   "source": [
    "df2 = df[:20]\n",
    "df2.rolling(window=5).corr(df2['B'])"
   ]
  },
  {
   "cell_type": "code",
   "execution_count": 14,
   "metadata": {},
   "outputs": [],
   "source": [
    "covs = df[['B','C','D']].rolling(window=50).cov(df[['A','B','C']], pairwise=True)"
   ]
  },
  {
   "cell_type": "code",
   "execution_count": 15,
   "metadata": {},
   "outputs": [
    {
     "data": {
      "text/html": [
       "<div>\n",
       "<style scoped>\n",
       "    .dataframe tbody tr th:only-of-type {\n",
       "        vertical-align: middle;\n",
       "    }\n",
       "\n",
       "    .dataframe tbody tr th {\n",
       "        vertical-align: top;\n",
       "    }\n",
       "\n",
       "    .dataframe thead th {\n",
       "        text-align: right;\n",
       "    }\n",
       "</style>\n",
       "<table border=\"1\" class=\"dataframe\">\n",
       "  <thead>\n",
       "    <tr style=\"text-align: right;\">\n",
       "      <th></th>\n",
       "      <th>B</th>\n",
       "      <th>C</th>\n",
       "      <th>D</th>\n",
       "    </tr>\n",
       "  </thead>\n",
       "  <tbody>\n",
       "    <tr>\n",
       "      <th>A</th>\n",
       "      <td>-3.366503</td>\n",
       "      <td>-1.697049</td>\n",
       "      <td>2.308745</td>\n",
       "    </tr>\n",
       "    <tr>\n",
       "      <th>B</th>\n",
       "      <td>4.988816</td>\n",
       "      <td>2.207432</td>\n",
       "      <td>-0.370125</td>\n",
       "    </tr>\n",
       "    <tr>\n",
       "      <th>C</th>\n",
       "      <td>2.207432</td>\n",
       "      <td>3.962947</td>\n",
       "      <td>-0.601842</td>\n",
       "    </tr>\n",
       "  </tbody>\n",
       "</table>\n",
       "</div>"
      ],
      "text/plain": [
       "          B         C         D\n",
       "A -3.366503 -1.697049  2.308745\n",
       "B  4.988816  2.207432 -0.370125\n",
       "C  2.207432  3.962947 -0.601842"
      ]
     },
     "execution_count": 15,
     "metadata": {},
     "output_type": "execute_result"
    }
   ],
   "source": [
    "covs.loc[df.index[-50]]"
   ]
  },
  {
   "cell_type": "code",
   "execution_count": 16,
   "metadata": {},
   "outputs": [
    {
     "data": {
      "text/html": [
       "<div>\n",
       "<style scoped>\n",
       "    .dataframe tbody tr th:only-of-type {\n",
       "        vertical-align: middle;\n",
       "    }\n",
       "\n",
       "    .dataframe tbody tr th {\n",
       "        vertical-align: top;\n",
       "    }\n",
       "\n",
       "    .dataframe thead th {\n",
       "        text-align: right;\n",
       "    }\n",
       "</style>\n",
       "<table border=\"1\" class=\"dataframe\">\n",
       "  <thead>\n",
       "    <tr style=\"text-align: right;\">\n",
       "      <th></th>\n",
       "      <th>A</th>\n",
       "      <th>B</th>\n",
       "      <th>C</th>\n",
       "      <th>D</th>\n",
       "    </tr>\n",
       "  </thead>\n",
       "  <tbody>\n",
       "    <tr>\n",
       "      <th>A</th>\n",
       "      <td>1.000000</td>\n",
       "      <td>-0.604904</td>\n",
       "      <td>-0.342130</td>\n",
       "      <td>0.421968</td>\n",
       "    </tr>\n",
       "    <tr>\n",
       "      <th>B</th>\n",
       "      <td>-0.604904</td>\n",
       "      <td>1.000000</td>\n",
       "      <td>0.496454</td>\n",
       "      <td>-0.075465</td>\n",
       "    </tr>\n",
       "    <tr>\n",
       "      <th>C</th>\n",
       "      <td>-0.342130</td>\n",
       "      <td>0.496454</td>\n",
       "      <td>1.000000</td>\n",
       "      <td>-0.137680</td>\n",
       "    </tr>\n",
       "    <tr>\n",
       "      <th>D</th>\n",
       "      <td>0.421968</td>\n",
       "      <td>-0.075465</td>\n",
       "      <td>-0.137680</td>\n",
       "      <td>1.000000</td>\n",
       "    </tr>\n",
       "  </tbody>\n",
       "</table>\n",
       "</div>"
      ],
      "text/plain": [
       "          A         B         C         D\n",
       "A  1.000000 -0.604904 -0.342130  0.421968\n",
       "B -0.604904  1.000000  0.496454 -0.075465\n",
       "C -0.342130  0.496454  1.000000 -0.137680\n",
       "D  0.421968 -0.075465 -0.137680  1.000000"
      ]
     },
     "execution_count": 16,
     "metadata": {},
     "output_type": "execute_result"
    }
   ],
   "source": [
    "correls = df.rolling(window=50).corr()\n",
    "correls.loc[df.index[-50]]"
   ]
  },
  {
   "cell_type": "code",
   "execution_count": 17,
   "metadata": {},
   "outputs": [
    {
     "data": {
      "text/plain": [
       "2000-01-01         NaN\n",
       "2000-01-02         NaN\n",
       "2000-01-03         NaN\n",
       "2000-01-04         NaN\n",
       "2000-01-05         NaN\n",
       "2000-01-06         NaN\n",
       "2000-01-07         NaN\n",
       "2000-01-08         NaN\n",
       "2000-01-09         NaN\n",
       "2000-01-10         NaN\n",
       "2000-01-11         NaN\n",
       "2000-01-12         NaN\n",
       "2000-01-13         NaN\n",
       "2000-01-14         NaN\n",
       "2000-01-15         NaN\n",
       "2000-01-16         NaN\n",
       "2000-01-17         NaN\n",
       "2000-01-18         NaN\n",
       "2000-01-19         NaN\n",
       "2000-01-20         NaN\n",
       "2000-01-21         NaN\n",
       "2000-01-22         NaN\n",
       "2000-01-23         NaN\n",
       "2000-01-24         NaN\n",
       "2000-01-25         NaN\n",
       "2000-01-26         NaN\n",
       "2000-01-27         NaN\n",
       "2000-01-28         NaN\n",
       "2000-01-29         NaN\n",
       "2000-01-30         NaN\n",
       "                ...   \n",
       "2002-08-28   -0.429215\n",
       "2002-08-29   -0.463922\n",
       "2002-08-30   -0.521507\n",
       "2002-08-31   -0.557186\n",
       "2002-09-01   -0.596870\n",
       "2002-09-02   -0.630756\n",
       "2002-09-03   -0.654455\n",
       "2002-09-04   -0.695831\n",
       "2002-09-05   -0.702939\n",
       "2002-09-06   -0.716429\n",
       "2002-09-07   -0.724767\n",
       "2002-09-08   -0.742225\n",
       "2002-09-09   -0.732229\n",
       "2002-09-10   -0.743287\n",
       "2002-09-11   -0.747569\n",
       "2002-09-12   -0.703009\n",
       "2002-09-13   -0.619047\n",
       "2002-09-14   -0.528259\n",
       "2002-09-15   -0.427015\n",
       "2002-09-16   -0.322860\n",
       "2002-09-17   -0.205540\n",
       "2002-09-18   -0.133395\n",
       "2002-09-19   -0.061589\n",
       "2002-09-20   -0.017721\n",
       "2002-09-21    0.047676\n",
       "2002-09-22    0.088563\n",
       "2002-09-23    0.131738\n",
       "2002-09-24    0.133835\n",
       "2002-09-25    0.112635\n",
       "2002-09-26    0.063967\n",
       "Freq: D, Name: C, Length: 1000, dtype: float64"
      ]
     },
     "execution_count": 17,
     "metadata": {},
     "output_type": "execute_result"
    }
   ],
   "source": [
    "correls.reorder_levels([1,0], axis=0).loc[\"A\",:][\"C\"]"
   ]
  },
  {
   "cell_type": "code",
   "execution_count": 18,
   "metadata": {},
   "outputs": [
    {
     "data": {
      "text/plain": [
       "<matplotlib.axes._subplots.AxesSubplot at 0x11576a7b8>"
      ]
     },
     "execution_count": 18,
     "metadata": {},
     "output_type": "execute_result"
    },
    {
     "data": {
      "image/png": "[encoded data removed]",
      "text/plain": [
       "<Figure size 432x288 with 1 Axes>"
      ]
     },
     "metadata": {
      "needs_background": "light"
     },
     "output_type": "display_data"
    }
   ],
   "source": [
    "correls.reorder_levels([1,0], axis=0).loc[\"A\",:][\"C\"].plot()"
   ]
  },
  {
   "cell_type": "markdown",
   "metadata": {},
   "source": [
    "### 使用`aggregate`聚合\n",
    "\n",
    "这个操作和groupby那个聚合非常类似,构建窗口后通过一系列算法获得了各窗口的值,我们可以通过传递一个函数到整个DataFrame\n",
    "\n",
    "也可以用`agg()`一次应用多个function"
   ]
  },
  {
   "cell_type": "code",
   "execution_count": 19,
   "metadata": {},
   "outputs": [],
   "source": [
    "dfa = pd.DataFrame(np.random.randn(1000, 3),\n",
    "                    index=pd.date_range('1/1/2000', periods=1000),\n",
    "                    columns=['A', 'B', 'C'])"
   ]
  },
  {
   "cell_type": "code",
   "execution_count": 20,
   "metadata": {},
   "outputs": [
    {
     "data": {
      "text/html": [
       "<div>\n",
       "<style scoped>\n",
       "    .dataframe tbody tr th:only-of-type {\n",
       "        vertical-align: middle;\n",
       "    }\n",
       "\n",
       "    .dataframe tbody tr th {\n",
       "        vertical-align: top;\n",
       "    }\n",
       "\n",
       "    .dataframe thead th {\n",
       "        text-align: right;\n",
       "    }\n",
       "</style>\n",
       "<table border=\"1\" class=\"dataframe\">\n",
       "  <thead>\n",
       "    <tr style=\"text-align: right;\">\n",
       "      <th></th>\n",
       "      <th>A</th>\n",
       "      <th>B</th>\n",
       "      <th>C</th>\n",
       "    </tr>\n",
       "  </thead>\n",
       "  <tbody>\n",
       "    <tr>\n",
       "      <th>2000-01-01</th>\n",
       "      <td>0.069055</td>\n",
       "      <td>-0.431206</td>\n",
       "      <td>-0.250284</td>\n",
       "    </tr>\n",
       "    <tr>\n",
       "      <th>2000-01-02</th>\n",
       "      <td>1.541963</td>\n",
       "      <td>-0.869075</td>\n",
       "      <td>-0.478704</td>\n",
       "    </tr>\n",
       "    <tr>\n",
       "      <th>2000-01-03</th>\n",
       "      <td>4.381829</td>\n",
       "      <td>-2.640809</td>\n",
       "      <td>0.837516</td>\n",
       "    </tr>\n",
       "    <tr>\n",
       "      <th>2000-01-04</th>\n",
       "      <td>4.824145</td>\n",
       "      <td>-2.998398</td>\n",
       "      <td>0.660984</td>\n",
       "    </tr>\n",
       "    <tr>\n",
       "      <th>2000-01-05</th>\n",
       "      <td>5.388716</td>\n",
       "      <td>-3.750861</td>\n",
       "      <td>1.237194</td>\n",
       "    </tr>\n",
       "    <tr>\n",
       "      <th>2000-01-06</th>\n",
       "      <td>4.671739</td>\n",
       "      <td>-2.204327</td>\n",
       "      <td>0.628633</td>\n",
       "    </tr>\n",
       "    <tr>\n",
       "      <th>2000-01-07</th>\n",
       "      <td>5.248314</td>\n",
       "      <td>-2.217534</td>\n",
       "      <td>1.141510</td>\n",
       "    </tr>\n",
       "    <tr>\n",
       "      <th>2000-01-08</th>\n",
       "      <td>5.711637</td>\n",
       "      <td>-2.554723</td>\n",
       "      <td>0.104990</td>\n",
       "    </tr>\n",
       "    <tr>\n",
       "      <th>2000-01-09</th>\n",
       "      <td>6.032947</td>\n",
       "      <td>-2.689234</td>\n",
       "      <td>-1.642611</td>\n",
       "    </tr>\n",
       "    <tr>\n",
       "      <th>2000-01-10</th>\n",
       "      <td>5.765271</td>\n",
       "      <td>-2.938515</td>\n",
       "      <td>-2.359754</td>\n",
       "    </tr>\n",
       "  </tbody>\n",
       "</table>\n",
       "</div>"
      ],
      "text/plain": [
       "                   A         B         C\n",
       "2000-01-01  0.069055 -0.431206 -0.250284\n",
       "2000-01-02  1.541963 -0.869075 -0.478704\n",
       "2000-01-03  4.381829 -2.640809  0.837516\n",
       "2000-01-04  4.824145 -2.998398  0.660984\n",
       "2000-01-05  5.388716 -3.750861  1.237194\n",
       "2000-01-06  4.671739 -2.204327  0.628633\n",
       "2000-01-07  5.248314 -2.217534  1.141510\n",
       "2000-01-08  5.711637 -2.554723  0.104990\n",
       "2000-01-09  6.032947 -2.689234 -1.642611\n",
       "2000-01-10  5.765271 -2.938515 -2.359754"
      ]
     },
     "execution_count": 20,
     "metadata": {},
     "output_type": "execute_result"
    }
   ],
   "source": [
    "r = dfa.rolling(window=60,min_periods=1)\n",
    "r.aggregate(np.sum)[:10]"
   ]
  },
  {
   "cell_type": "code",
   "execution_count": 21,
   "metadata": {},
   "outputs": [
    {
     "data": {
      "text/html": [
       "<div>\n",
       "<style scoped>\n",
       "    .dataframe tbody tr th:only-of-type {\n",
       "        vertical-align: middle;\n",
       "    }\n",
       "\n",
       "    .dataframe tbody tr th {\n",
       "        vertical-align: top;\n",
       "    }\n",
       "\n",
       "    .dataframe thead th {\n",
       "        text-align: right;\n",
       "    }\n",
       "</style>\n",
       "<table border=\"1\" class=\"dataframe\">\n",
       "  <thead>\n",
       "    <tr style=\"text-align: right;\">\n",
       "      <th></th>\n",
       "      <th>sum</th>\n",
       "      <th>mean</th>\n",
       "      <th>std</th>\n",
       "    </tr>\n",
       "  </thead>\n",
       "  <tbody>\n",
       "    <tr>\n",
       "      <th>2000-01-01</th>\n",
       "      <td>0.069055</td>\n",
       "      <td>0.069055</td>\n",
       "      <td>NaN</td>\n",
       "    </tr>\n",
       "    <tr>\n",
       "      <th>2000-01-02</th>\n",
       "      <td>1.541963</td>\n",
       "      <td>0.770981</td>\n",
       "      <td>0.992674</td>\n",
       "    </tr>\n",
       "    <tr>\n",
       "      <th>2000-01-03</th>\n",
       "      <td>4.381829</td>\n",
       "      <td>1.460610</td>\n",
       "      <td>1.385446</td>\n",
       "    </tr>\n",
       "    <tr>\n",
       "      <th>2000-01-04</th>\n",
       "      <td>4.824145</td>\n",
       "      <td>1.206036</td>\n",
       "      <td>1.240513</td>\n",
       "    </tr>\n",
       "    <tr>\n",
       "      <th>2000-01-05</th>\n",
       "      <td>5.388716</td>\n",
       "      <td>1.077743</td>\n",
       "      <td>1.111957</td>\n",
       "    </tr>\n",
       "    <tr>\n",
       "      <th>2000-01-06</th>\n",
       "      <td>4.671739</td>\n",
       "      <td>0.778623</td>\n",
       "      <td>1.235312</td>\n",
       "    </tr>\n",
       "    <tr>\n",
       "      <th>2000-01-07</th>\n",
       "      <td>5.248314</td>\n",
       "      <td>0.749759</td>\n",
       "      <td>1.130263</td>\n",
       "    </tr>\n",
       "    <tr>\n",
       "      <th>2000-01-08</th>\n",
       "      <td>5.711637</td>\n",
       "      <td>0.713955</td>\n",
       "      <td>1.051310</td>\n",
       "    </tr>\n",
       "    <tr>\n",
       "      <th>2000-01-09</th>\n",
       "      <td>6.032947</td>\n",
       "      <td>0.670327</td>\n",
       "      <td>0.992081</td>\n",
       "    </tr>\n",
       "    <tr>\n",
       "      <th>2000-01-10</th>\n",
       "      <td>5.765271</td>\n",
       "      <td>0.576527</td>\n",
       "      <td>0.981250</td>\n",
       "    </tr>\n",
       "  </tbody>\n",
       "</table>\n",
       "</div>"
      ],
      "text/plain": [
       "                 sum      mean       std\n",
       "2000-01-01  0.069055  0.069055       NaN\n",
       "2000-01-02  1.541963  0.770981  0.992674\n",
       "2000-01-03  4.381829  1.460610  1.385446\n",
       "2000-01-04  4.824145  1.206036  1.240513\n",
       "2000-01-05  5.388716  1.077743  1.111957\n",
       "2000-01-06  4.671739  0.778623  1.235312\n",
       "2000-01-07  5.248314  0.749759  1.130263\n",
       "2000-01-08  5.711637  0.713955  1.051310\n",
       "2000-01-09  6.032947  0.670327  0.992081\n",
       "2000-01-10  5.765271  0.576527  0.981250"
      ]
     },
     "execution_count": 21,
     "metadata": {},
     "output_type": "execute_result"
    }
   ],
   "source": [
    "r['A'].agg([np.sum, np.mean, np.std])[:10]"
   ]
  },
  {
   "cell_type": "code",
   "execution_count": 22,
   "metadata": {},
   "outputs": [
    {
     "data": {
      "text/html": [
       "<div>\n",
       "<style scoped>\n",
       "    .dataframe tbody tr th:only-of-type {\n",
       "        vertical-align: middle;\n",
       "    }\n",
       "\n",
       "    .dataframe tbody tr th {\n",
       "        vertical-align: top;\n",
       "    }\n",
       "\n",
       "    .dataframe thead th {\n",
       "        text-align: right;\n",
       "    }\n",
       "</style>\n",
       "<table border=\"1\" class=\"dataframe\">\n",
       "  <thead>\n",
       "    <tr style=\"text-align: right;\">\n",
       "      <th></th>\n",
       "      <th>result1</th>\n",
       "      <th>result2</th>\n",
       "    </tr>\n",
       "  </thead>\n",
       "  <tbody>\n",
       "    <tr>\n",
       "      <th>2000-01-01</th>\n",
       "      <td>0.069055</td>\n",
       "      <td>0.069055</td>\n",
       "    </tr>\n",
       "    <tr>\n",
       "      <th>2000-01-02</th>\n",
       "      <td>1.541963</td>\n",
       "      <td>0.770981</td>\n",
       "    </tr>\n",
       "    <tr>\n",
       "      <th>2000-01-03</th>\n",
       "      <td>4.381829</td>\n",
       "      <td>1.460610</td>\n",
       "    </tr>\n",
       "    <tr>\n",
       "      <th>2000-01-04</th>\n",
       "      <td>4.824145</td>\n",
       "      <td>1.206036</td>\n",
       "    </tr>\n",
       "    <tr>\n",
       "      <th>2000-01-05</th>\n",
       "      <td>5.388716</td>\n",
       "      <td>1.077743</td>\n",
       "    </tr>\n",
       "    <tr>\n",
       "      <th>2000-01-06</th>\n",
       "      <td>4.671739</td>\n",
       "      <td>0.778623</td>\n",
       "    </tr>\n",
       "    <tr>\n",
       "      <th>2000-01-07</th>\n",
       "      <td>5.248314</td>\n",
       "      <td>0.749759</td>\n",
       "    </tr>\n",
       "    <tr>\n",
       "      <th>2000-01-08</th>\n",
       "      <td>5.711637</td>\n",
       "      <td>0.713955</td>\n",
       "    </tr>\n",
       "    <tr>\n",
       "      <th>2000-01-09</th>\n",
       "      <td>6.032947</td>\n",
       "      <td>0.670327</td>\n",
       "    </tr>\n",
       "    <tr>\n",
       "      <th>2000-01-10</th>\n",
       "      <td>5.765271</td>\n",
       "      <td>0.576527</td>\n",
       "    </tr>\n",
       "  </tbody>\n",
       "</table>\n",
       "</div>"
      ],
      "text/plain": [
       "             result1   result2\n",
       "2000-01-01  0.069055  0.069055\n",
       "2000-01-02  1.541963  0.770981\n",
       "2000-01-03  4.381829  1.460610\n",
       "2000-01-04  4.824145  1.206036\n",
       "2000-01-05  5.388716  1.077743\n",
       "2000-01-06  4.671739  0.778623\n",
       "2000-01-07  5.248314  0.749759\n",
       "2000-01-08  5.711637  0.713955\n",
       "2000-01-09  6.032947  0.670327\n",
       "2000-01-10  5.765271  0.576527"
      ]
     },
     "execution_count": 22,
     "metadata": {},
     "output_type": "execute_result"
    }
   ],
   "source": [
    "r['A'].agg({'result1' : np.sum,'result2' : np.mean})[:10]"
   ]
  },
  {
   "cell_type": "code",
   "execution_count": 23,
   "metadata": {},
   "outputs": [
    {
     "data": {
      "text/html": [
       "<div>\n",
       "<style scoped>\n",
       "    .dataframe tbody tr th:only-of-type {\n",
       "        vertical-align: middle;\n",
       "    }\n",
       "\n",
       "    .dataframe tbody tr th {\n",
       "        vertical-align: top;\n",
       "    }\n",
       "\n",
       "    .dataframe thead tr th {\n",
       "        text-align: left;\n",
       "    }\n",
       "</style>\n",
       "<table border=\"1\" class=\"dataframe\">\n",
       "  <thead>\n",
       "    <tr>\n",
       "      <th></th>\n",
       "      <th colspan=\"2\" halign=\"left\">A</th>\n",
       "      <th colspan=\"2\" halign=\"left\">B</th>\n",
       "      <th colspan=\"2\" halign=\"left\">C</th>\n",
       "    </tr>\n",
       "    <tr>\n",
       "      <th></th>\n",
       "      <th>sum</th>\n",
       "      <th>mean</th>\n",
       "      <th>sum</th>\n",
       "      <th>mean</th>\n",
       "      <th>sum</th>\n",
       "      <th>mean</th>\n",
       "    </tr>\n",
       "  </thead>\n",
       "  <tbody>\n",
       "    <tr>\n",
       "      <th>2000-01-01</th>\n",
       "      <td>0.069055</td>\n",
       "      <td>0.069055</td>\n",
       "      <td>-0.431206</td>\n",
       "      <td>-0.431206</td>\n",
       "      <td>-0.250284</td>\n",
       "      <td>-0.250284</td>\n",
       "    </tr>\n",
       "    <tr>\n",
       "      <th>2000-01-02</th>\n",
       "      <td>1.541963</td>\n",
       "      <td>0.770981</td>\n",
       "      <td>-0.869075</td>\n",
       "      <td>-0.434537</td>\n",
       "      <td>-0.478704</td>\n",
       "      <td>-0.239352</td>\n",
       "    </tr>\n",
       "    <tr>\n",
       "      <th>2000-01-03</th>\n",
       "      <td>4.381829</td>\n",
       "      <td>1.460610</td>\n",
       "      <td>-2.640809</td>\n",
       "      <td>-0.880270</td>\n",
       "      <td>0.837516</td>\n",
       "      <td>0.279172</td>\n",
       "    </tr>\n",
       "    <tr>\n",
       "      <th>2000-01-04</th>\n",
       "      <td>4.824145</td>\n",
       "      <td>1.206036</td>\n",
       "      <td>-2.998398</td>\n",
       "      <td>-0.749599</td>\n",
       "      <td>0.660984</td>\n",
       "      <td>0.165246</td>\n",
       "    </tr>\n",
       "    <tr>\n",
       "      <th>2000-01-05</th>\n",
       "      <td>5.388716</td>\n",
       "      <td>1.077743</td>\n",
       "      <td>-3.750861</td>\n",
       "      <td>-0.750172</td>\n",
       "      <td>1.237194</td>\n",
       "      <td>0.247439</td>\n",
       "    </tr>\n",
       "    <tr>\n",
       "      <th>2000-01-06</th>\n",
       "      <td>4.671739</td>\n",
       "      <td>0.778623</td>\n",
       "      <td>-2.204327</td>\n",
       "      <td>-0.367388</td>\n",
       "      <td>0.628633</td>\n",
       "      <td>0.104772</td>\n",
       "    </tr>\n",
       "    <tr>\n",
       "      <th>2000-01-07</th>\n",
       "      <td>5.248314</td>\n",
       "      <td>0.749759</td>\n",
       "      <td>-2.217534</td>\n",
       "      <td>-0.316791</td>\n",
       "      <td>1.141510</td>\n",
       "      <td>0.163073</td>\n",
       "    </tr>\n",
       "    <tr>\n",
       "      <th>2000-01-08</th>\n",
       "      <td>5.711637</td>\n",
       "      <td>0.713955</td>\n",
       "      <td>-2.554723</td>\n",
       "      <td>-0.319340</td>\n",
       "      <td>0.104990</td>\n",
       "      <td>0.013124</td>\n",
       "    </tr>\n",
       "    <tr>\n",
       "      <th>2000-01-09</th>\n",
       "      <td>6.032947</td>\n",
       "      <td>0.670327</td>\n",
       "      <td>-2.689234</td>\n",
       "      <td>-0.298804</td>\n",
       "      <td>-1.642611</td>\n",
       "      <td>-0.182512</td>\n",
       "    </tr>\n",
       "    <tr>\n",
       "      <th>2000-01-10</th>\n",
       "      <td>5.765271</td>\n",
       "      <td>0.576527</td>\n",
       "      <td>-2.938515</td>\n",
       "      <td>-0.293852</td>\n",
       "      <td>-2.359754</td>\n",
       "      <td>-0.235975</td>\n",
       "    </tr>\n",
       "  </tbody>\n",
       "</table>\n",
       "</div>"
      ],
      "text/plain": [
       "                   A                   B                   C          \n",
       "                 sum      mean       sum      mean       sum      mean\n",
       "2000-01-01  0.069055  0.069055 -0.431206 -0.431206 -0.250284 -0.250284\n",
       "2000-01-02  1.541963  0.770981 -0.869075 -0.434537 -0.478704 -0.239352\n",
       "2000-01-03  4.381829  1.460610 -2.640809 -0.880270  0.837516  0.279172\n",
       "2000-01-04  4.824145  1.206036 -2.998398 -0.749599  0.660984  0.165246\n",
       "2000-01-05  5.388716  1.077743 -3.750861 -0.750172  1.237194  0.247439\n",
       "2000-01-06  4.671739  0.778623 -2.204327 -0.367388  0.628633  0.104772\n",
       "2000-01-07  5.248314  0.749759 -2.217534 -0.316791  1.141510  0.163073\n",
       "2000-01-08  5.711637  0.713955 -2.554723 -0.319340  0.104990  0.013124\n",
       "2000-01-09  6.032947  0.670327 -2.689234 -0.298804 -1.642611 -0.182512\n",
       "2000-01-10  5.765271  0.576527 -2.938515 -0.293852 -2.359754 -0.235975"
      ]
     },
     "execution_count": 23,
     "metadata": {},
     "output_type": "execute_result"
    }
   ],
   "source": [
    "r.agg([np.sum, np.mean])[:10]"
   ]
  },
  {
   "cell_type": "markdown",
   "metadata": {},
   "source": [
    "### expanding函数\n",
    "\n",
    "`expanding(window,min_periods,center,axis)`\n",
    "\n",
    "滚动统计的一个常见替代方法是使用扩展窗口,该窗口产生具有到达该时间点之前可用的所有数据的统计的值.\n",
    "\n",
    "他的接口接近`.rolling`的接口`.expanding`方法返回一个`Expanding`对象.我们可以对比下一下两个函数,他们是等效的"
   ]
  },
  {
   "cell_type": "code",
   "execution_count": 24,
   "metadata": {},
   "outputs": [
    {
     "data": {
      "text/html": [
       "<div>\n",
       "<style scoped>\n",
       "    .dataframe tbody tr th:only-of-type {\n",
       "        vertical-align: middle;\n",
       "    }\n",
       "\n",
       "    .dataframe tbody tr th {\n",
       "        vertical-align: top;\n",
       "    }\n",
       "\n",
       "    .dataframe thead th {\n",
       "        text-align: right;\n",
       "    }\n",
       "</style>\n",
       "<table border=\"1\" class=\"dataframe\">\n",
       "  <thead>\n",
       "    <tr style=\"text-align: right;\">\n",
       "      <th></th>\n",
       "      <th>A</th>\n",
       "      <th>B</th>\n",
       "      <th>C</th>\n",
       "      <th>D</th>\n",
       "    </tr>\n",
       "  </thead>\n",
       "  <tbody>\n",
       "    <tr>\n",
       "      <th>2000-01-01</th>\n",
       "      <td>-1.037228</td>\n",
       "      <td>0.559174</td>\n",
       "      <td>-1.177712</td>\n",
       "      <td>0.076422</td>\n",
       "    </tr>\n",
       "    <tr>\n",
       "      <th>2000-01-02</th>\n",
       "      <td>-0.571626</td>\n",
       "      <td>0.326794</td>\n",
       "      <td>-1.091479</td>\n",
       "      <td>0.327348</td>\n",
       "    </tr>\n",
       "    <tr>\n",
       "      <th>2000-01-03</th>\n",
       "      <td>-0.862770</td>\n",
       "      <td>0.214503</td>\n",
       "      <td>-0.535658</td>\n",
       "      <td>0.471560</td>\n",
       "    </tr>\n",
       "    <tr>\n",
       "      <th>2000-01-04</th>\n",
       "      <td>-0.855107</td>\n",
       "      <td>0.560978</td>\n",
       "      <td>-0.370145</td>\n",
       "      <td>0.613405</td>\n",
       "    </tr>\n",
       "    <tr>\n",
       "      <th>2000-01-05</th>\n",
       "      <td>-0.806280</td>\n",
       "      <td>0.531091</td>\n",
       "      <td>-0.118997</td>\n",
       "      <td>0.714881</td>\n",
       "    </tr>\n",
       "  </tbody>\n",
       "</table>\n",
       "</div>"
      ],
      "text/plain": [
       "                   A         B         C         D\n",
       "2000-01-01 -1.037228  0.559174 -1.177712  0.076422\n",
       "2000-01-02 -0.571626  0.326794 -1.091479  0.327348\n",
       "2000-01-03 -0.862770  0.214503 -0.535658  0.471560\n",
       "2000-01-04 -0.855107  0.560978 -0.370145  0.613405\n",
       "2000-01-05 -0.806280  0.531091 -0.118997  0.714881"
      ]
     },
     "execution_count": 24,
     "metadata": {},
     "output_type": "execute_result"
    }
   ],
   "source": [
    "df.rolling(window=len(df), min_periods=1).mean()[:5]"
   ]
  },
  {
   "cell_type": "code",
   "execution_count": 25,
   "metadata": {},
   "outputs": [
    {
     "data": {
      "text/html": [
       "<div>\n",
       "<style scoped>\n",
       "    .dataframe tbody tr th:only-of-type {\n",
       "        vertical-align: middle;\n",
       "    }\n",
       "\n",
       "    .dataframe tbody tr th {\n",
       "        vertical-align: top;\n",
       "    }\n",
       "\n",
       "    .dataframe thead th {\n",
       "        text-align: right;\n",
       "    }\n",
       "</style>\n",
       "<table border=\"1\" class=\"dataframe\">\n",
       "  <thead>\n",
       "    <tr style=\"text-align: right;\">\n",
       "      <th></th>\n",
       "      <th>A</th>\n",
       "      <th>B</th>\n",
       "      <th>C</th>\n",
       "      <th>D</th>\n",
       "    </tr>\n",
       "  </thead>\n",
       "  <tbody>\n",
       "    <tr>\n",
       "      <th>2000-01-01</th>\n",
       "      <td>-1.037228</td>\n",
       "      <td>0.559174</td>\n",
       "      <td>-1.177712</td>\n",
       "      <td>0.076422</td>\n",
       "    </tr>\n",
       "    <tr>\n",
       "      <th>2000-01-02</th>\n",
       "      <td>-0.571626</td>\n",
       "      <td>0.326794</td>\n",
       "      <td>-1.091479</td>\n",
       "      <td>0.327348</td>\n",
       "    </tr>\n",
       "    <tr>\n",
       "      <th>2000-01-03</th>\n",
       "      <td>-0.862770</td>\n",
       "      <td>0.214503</td>\n",
       "      <td>-0.535658</td>\n",
       "      <td>0.471560</td>\n",
       "    </tr>\n",
       "    <tr>\n",
       "      <th>2000-01-04</th>\n",
       "      <td>-0.855107</td>\n",
       "      <td>0.560978</td>\n",
       "      <td>-0.370145</td>\n",
       "      <td>0.613405</td>\n",
       "    </tr>\n",
       "    <tr>\n",
       "      <th>2000-01-05</th>\n",
       "      <td>-0.806280</td>\n",
       "      <td>0.531091</td>\n",
       "      <td>-0.118997</td>\n",
       "      <td>0.714881</td>\n",
       "    </tr>\n",
       "  </tbody>\n",
       "</table>\n",
       "</div>"
      ],
      "text/plain": [
       "                   A         B         C         D\n",
       "2000-01-01 -1.037228  0.559174 -1.177712  0.076422\n",
       "2000-01-02 -0.571626  0.326794 -1.091479  0.327348\n",
       "2000-01-03 -0.862770  0.214503 -0.535658  0.471560\n",
       "2000-01-04 -0.855107  0.560978 -0.370145  0.613405\n",
       "2000-01-05 -0.806280  0.531091 -0.118997  0.714881"
      ]
     },
     "execution_count": 25,
     "metadata": {},
     "output_type": "execute_result"
    }
   ],
   "source": [
    "df.expanding(min_periods=1).mean()[:5]"
   ]
  },
  {
   "cell_type": "code",
   "execution_count": 26,
   "metadata": {},
   "outputs": [
    {
     "data": {
      "text/plain": [
       "<matplotlib.axes._subplots.AxesSubplot at 0x115686940>"
      ]
     },
     "execution_count": 26,
     "metadata": {},
     "output_type": "execute_result"
    },
    {
     "data": {
      "image/png": "[encoded data removed]",
      "text/plain": [
       "<Figure size 432x288 with 1 Axes>"
      ]
     },
     "metadata": {
      "needs_background": "light"
     },
     "output_type": "display_data"
    }
   ],
   "source": [
    "s.plot(style='k--')\n",
    "s.expanding().mean().plot(style='k')"
   ]
  },
  {
   "cell_type": "markdown",
   "metadata": {},
   "source": [
    "### 指数加权窗口ewm\n",
    "\n",
    "ewm是几个上述统计量的指数加权版本。\n",
    "他支持的默认方法比较少\n",
    "\n",
    "Function|Description\n",
    "---|---\n",
    "mean()|EW moving average\n",
    "var()|EW moving variance\n",
    "std()|EW moving standard deviation\n",
    "corr()|EW moving correlation\n",
    "cov()|EW moving covariance"
   ]
  },
  {
   "cell_type": "code",
   "execution_count": 27,
   "metadata": {},
   "outputs": [
    {
     "data": {
      "text/plain": [
       "<matplotlib.axes._subplots.AxesSubplot at 0x115703128>"
      ]
     },
     "execution_count": 27,
     "metadata": {},
     "output_type": "execute_result"
    },
    {
     "data": {
      "image/png": "[encoded data removed]",
      "text/plain": [
       "<Figure size 432x288 with 1 Axes>"
      ]
     },
     "metadata": {
      "needs_background": "light"
     },
     "output_type": "display_data"
    }
   ],
   "source": [
    "s.plot(style='k--')\n",
    "s.ewm(span=20).mean().plot(style='k')"
   ]
  }
 ],
 "metadata": {
  "kernelspec": {
   "display_name": "Python 3",
   "language": "python",
   "name": "python3"
  },
  "language_info": {
   "codemirror_mode": {
    "name": "ipython",
    "version": 3
   },
   "file_extension": ".py",
   "mimetype": "text/x-python",
   "name": "python",
   "nbconvert_exporter": "python",
   "pygments_lexer": "ipython3",
   "version": "3.7.3"
  }
 },
 "nbformat": 4,
 "nbformat_minor": 2
}
