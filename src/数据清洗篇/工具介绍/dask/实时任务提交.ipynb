{
 "cells": [
  {
   "cell_type": "markdown",
   "metadata": {},
   "source": [
    "# 实时任务提交\n",
    "\n",
    "实时任务提交使用接口[Futures](https://docs.dask.org/en/latest/futures.html#api),它只能是使用集群部署才可以使用,它可以将任务直接提交到集群,然后等待结果,任务执行是异步的.\n",
    "\n",
    "它的接口基本参照标准库`concurrent.futures`主要接口包括:\n",
    "\n",
    "+ `submit`提交任务\n",
    "+ `map`将任务分发到多个计算节点\n",
    "+ `as_completed`构造一个生成器,Futures对象完成获取结果后yield出来\n",
    "+ `wait`等待计算完成,可以设置超时\n",
    "\n",
    "同时也提供了Queue,Lock,pub/sub,全局变量这样的工具,以应付数据同步这样的需求\n",
    "\n",
    "实时任务提交主要用户构造服务和流数据处理.有点类似spark中spark-streaming的地位"
   ]
  },
  {
   "cell_type": "markdown",
   "metadata": {},
   "source": [
    "## 同步提交\n",
    "\n",
    "这种方式再README中就已经有演示,它和`concurrent.futures`几乎完全一样"
   ]
  },
  {
   "cell_type": "code",
   "execution_count": 1,
   "metadata": {},
   "outputs": [
    {
     "name": "stdout",
     "output_type": "stream",
     "text": [
      "333283335000\n"
     ]
    }
   ],
   "source": [
    "from dask.distributed import Client\n",
    "client = Client('localhost:8786')\n",
    "\n",
    "def square(x):\n",
    "    return x ** 2\n",
    "\n",
    "A = client.map(square, range(10000))\n",
    "total = client.submit(sum, A)\n",
    "print(total.result())"
   ]
  },
  {
   "cell_type": "markdown",
   "metadata": {},
   "source": [
    "## 异步提交\n",
    "\n",
    "dask的异步接口基于Tornado或者asyncio,默认使用的是Tornado,我们可以指定loop来指定使用什么事件循环."
   ]
  },
  {
   "cell_type": "markdown",
   "metadata": {},
   "source": [
    "### 在初始化`Client`对象时使用`asynchronous=True`,这样整个client将只有异步接口"
   ]
  },
  {
   "cell_type": "code",
   "execution_count": 4,
   "metadata": {},
   "outputs": [
    {
     "name": "stdout",
     "output_type": "stream",
     "text": [
      "Overwriting code/realtime/async_submit.py\n"
     ]
    }
   ],
   "source": [
    "%%writefile code/realtime/async_submit.py\n",
    "import asyncio\n",
    "import platform\n",
    "import multiprocessing\n",
    "from dask.distributed import Client\n",
    "\n",
    "\n",
    "def square(x):\n",
    "    return x ** 2\n",
    "\n",
    "\n",
    "async def f():\n",
    "    client = await Client(\"localhost:8786\", asynchronous=True)\n",
    "    A = client.map(square, range(10000))\n",
    "    result = await client.submit(sum, A)\n",
    "    print(result)\n",
    "    await client.close()\n",
    "    return result\n",
    "\n",
    "\n",
    "if __name__ == '__main__':\n",
    "    if \"Windows\" in platform.platform():\n",
    "        multiprocessing.freeze_support()\n",
    "    asyncio.get_event_loop().run_until_complete(f())"
   ]
  },
  {
   "cell_type": "markdown",
   "metadata": {},
   "source": [
    "上面的方式我们使用的是基于进程池的`Client`对象,可以使用参数`processes=False`设定改为使用线程池的`Client`对象,这样就不需要在windows上使用`multiprocessing.freeze_support()`了"
   ]
  },
  {
   "cell_type": "markdown",
   "metadata": {},
   "source": [
    "## Actor模式[实验]\n",
    "\n",
    "这可能是dask下一个大版本的主要新特性,这个模式下我们的任务不走调度器,而是直接交给worker通过actor对象执行,这样的好处是减少了调度时间可以响应更快,但坏处是无法通过调度器自动优化,debug,而且一旦在worker上创建了actor,那除非worker关闭否则完全无法关闭.\n",
    "\n",
    "Actor使用类定义,它可以快速的改变状态,我们可以像使用类实例一样的使用它,它同样也支持同步和异步两种方式"
   ]
  },
  {
   "cell_type": "markdown",
   "metadata": {},
   "source": [
    "### 同步提交"
   ]
  },
  {
   "cell_type": "code",
   "execution_count": 9,
   "metadata": {},
   "outputs": [
    {
     "data": {
      "text/plain": [
       "<Actor: Counter, key=Counter-ec9d78f8-8c50-4ae2-91d6-1ccfbd9e068c>"
      ]
     },
     "execution_count": 9,
     "metadata": {},
     "output_type": "execute_result"
    }
   ],
   "source": [
    "class Counter:\n",
    "    n = 0\n",
    "\n",
    "    def __init__(self):\n",
    "        self.n = 0\n",
    "\n",
    "    def increment(self):\n",
    "        self.n += 1\n",
    "        return self.n\n",
    "\n",
    "future = client.submit(Counter, actor=True)\n",
    "counter = future.result()\n",
    "counter"
   ]
  },
  {
   "cell_type": "markdown",
   "metadata": {},
   "source": [
    "Actor模式的对象submit后返回的是`ActorFutures`类型,它可以调用定义好的方法,也可以访问其中的属性"
   ]
  },
  {
   "cell_type": "code",
   "execution_count": 10,
   "metadata": {},
   "outputs": [
    {
     "data": {
      "text/plain": [
       "1"
      ]
     },
     "execution_count": 10,
     "metadata": {},
     "output_type": "execute_result"
    }
   ],
   "source": [
    "future = counter.increment()\n",
    "result = future.result()\n",
    "result"
   ]
  },
  {
   "cell_type": "code",
   "execution_count": 11,
   "metadata": {},
   "outputs": [
    {
     "data": {
      "text/plain": [
       "1"
      ]
     },
     "execution_count": 11,
     "metadata": {},
     "output_type": "execute_result"
    }
   ],
   "source": [
    "counter.n"
   ]
  },
  {
   "cell_type": "markdown",
   "metadata": {},
   "source": [
    "### 异步提交\n",
    "\n",
    "这个模式下异步接口更加方便,上面的内容可以写成如下异步实现"
   ]
  },
  {
   "cell_type": "code",
   "execution_count": 5,
   "metadata": {},
   "outputs": [
    {
     "name": "stdout",
     "output_type": "stream",
     "text": [
      "Overwriting code/realtime/async_actor.py\n"
     ]
    }
   ],
   "source": [
    "%%writefile code/realtime/async_actor.py\n",
    "import asyncio\n",
    "import platform\n",
    "import multiprocessing\n",
    "from dask.distributed import Client\n",
    "\n",
    "\n",
    "class Counter:\n",
    "    n = 0\n",
    "\n",
    "    def __init__(self):\n",
    "        self.n = 0\n",
    "\n",
    "    def increment(self):\n",
    "        self.n += 1\n",
    "        return self.n\n",
    "\n",
    "\n",
    "async def f():\n",
    "    client = await Client(\"localhost:8786\", asynchronous=True)\n",
    "    counter = await client.submit(Counter, actor=True)\n",
    "    await counter.increment()\n",
    "    n = await counter.n\n",
    "    print(n)\n",
    "    await client.close()\n",
    "    return n\n",
    "\n",
    "\n",
    "if __name__ == '__main__':\n",
    "    if \"Windows\" in platform.platform():\n",
    "        multiprocessing.freeze_support()\n",
    "    asyncio.get_event_loop().run_until_complete(f())"
   ]
  },
  {
   "cell_type": "markdown",
   "metadata": {},
   "source": [
    "上面的方式我们使用的是基于进程池的`Client`对象,可以使用参数`processes=False`设定改为使用线程池的`Client`对象,这样就不需要在windows上使用`multiprocessing.freeze_support()`了"
   ]
  }
 ],
 "metadata": {
  "kernelspec": {
   "display_name": "Python 3",
   "language": "python",
   "name": "python3"
  },
  "language_info": {
   "codemirror_mode": {
    "name": "ipython",
    "version": 3
   },
   "file_extension": ".py",
   "mimetype": "text/x-python",
   "name": "python",
   "nbconvert_exporter": "python",
   "pygments_lexer": "ipython3",
   "version": "3.7.3"
  }
 },
 "nbformat": 4,
 "nbformat_minor": 2
}
