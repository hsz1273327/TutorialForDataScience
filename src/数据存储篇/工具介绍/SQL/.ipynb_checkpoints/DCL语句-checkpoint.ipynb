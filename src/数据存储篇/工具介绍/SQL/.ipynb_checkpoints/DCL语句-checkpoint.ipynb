{
 "cells": [
  {
   "cell_type": "markdown",
   "metadata": {},
   "source": [
    "# DCL语句\n",
    "\n",
    "DCL语句是用来确认或者取消对数据库中的数据进行变更的语句;除此之外还可以对数据库管理系统中的用户是否有权限操作数据库中的对象进行设定.DCL 包含以下几种指令:\n",
    "\n",
    "+ `COMMIT`：确认对数据库中的数据进行的变更\n",
    "\n",
    "+ `ROLLBACK`：取消对数据库中的数据进行的变更\n",
    "\n",
    "+ `GRANT`：赋予用户操作权限\n",
    "\n",
    "+ `REVOKE`：取消用户的操作权限\n",
    "\n",
    "\n",
    "由于本文的目的是让读者可以用SQL语句执行任务,而`GRANT`和`REVOKE`更多的是运维人员管理,因此本文只讲前两个也就是事务相关的DCL语句."
   ]
  },
  {
   "cell_type": "code",
   "execution_count": null,
   "metadata": {},
   "outputs": [],
   "source": []
  }
 ],
 "metadata": {
  "kernelspec": {
   "display_name": "PostgreSQL",
   "language": "sql",
   "name": "postgres"
  },
  "language_info": {
   "codemirror_mode": "sql",
   "file_extension": ".sql",
   "mimetype": "text/x-postgresql",
   "name": "PostgreSQL"
  }
 },
 "nbformat": 4,
 "nbformat_minor": 4
}
