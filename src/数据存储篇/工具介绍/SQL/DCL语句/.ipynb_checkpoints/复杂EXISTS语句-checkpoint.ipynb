{
 "cells": [
  {
   "cell_type": "markdown",
   "metadata": {},
   "source": [
    "前面的所有谓词他们的参数都是一个值,或者说是*标量*.而`EXISTS`子句的参数是*行的集合*,这种区别本质上是在于其参数的阶(order)不同.\n",
    "\n",
    "可以认为\n",
    "\n",
    "+ 一阶谓词 = 输入值为`标量`\n",
    "+ 二阶谓词 = 输入值为`集合`\n",
    "+ 三阶谓词＝输入值为`集合的集合`\n",
    "+ 四阶谓词＝输入值为`集合的集合的集合`\n",
    "...\n",
    "\n",
    "当然至少目前SQL语句只支持到二阶.\n",
    "\n",
    "在关系数据库模型中,行被称为`0阶`,表被称为`1阶`即行的集合,`schema`就是`2阶`即表的集合,`database`就是`3阶`即`schema`的集合."
   ]
  }
 ],
 "metadata": {
  "kernelspec": {
   "display_name": "PostgreSQL",
   "language": "sql",
   "name": "postgres"
  },
  "language_info": {
   "codemirror_mode": "sql",
   "file_extension": ".sql",
   "mimetype": "text/x-postgresql",
   "name": "PostgreSQL"
  }
 },
 "nbformat": 4,
 "nbformat_minor": 4
}
