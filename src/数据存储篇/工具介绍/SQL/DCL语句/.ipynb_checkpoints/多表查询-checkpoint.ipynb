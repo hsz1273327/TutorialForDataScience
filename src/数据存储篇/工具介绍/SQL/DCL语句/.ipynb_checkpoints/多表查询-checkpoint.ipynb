{
 "cells": [
  {
   "cell_type": "markdown",
   "metadata": {},
   "source": [
    "# 多表查询\n",
    "\n"
   ]
  },
  {
   "cell_type": "code",
   "execution_count": null,
   "metadata": {},
   "outputs": [],
   "source": []
  }
 ],
 "metadata": {
  "kernelspec": {
   "display_name": "PostgreSQL",
   "language": "sql",
   "name": "postgres"
  },
  "language_info": {
   "codemirror_mode": "sql",
   "file_extension": ".sql",
   "mimetype": "text/x-postgresql",
   "name": "PostgreSQL"
  }
 },
 "nbformat": 4,
 "nbformat_minor": 4
}
