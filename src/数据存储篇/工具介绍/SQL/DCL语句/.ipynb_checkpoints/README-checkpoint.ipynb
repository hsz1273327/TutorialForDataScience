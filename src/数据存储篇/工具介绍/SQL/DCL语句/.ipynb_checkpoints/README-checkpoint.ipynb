{
 "cells": [
  {
   "cell_type": "markdown",
   "metadata": {},
   "source": [
    "# DCL操作\n",
    "\n",
    "\n",
    "DCL操作是整个SQL知识点最集中也是最重要的部分,本文将从最简单的数据增删改查说起,过渡到复杂查询,包括数据分组,窗口查询,条件查询,表的集合计算等."
   ]
  }
 ],
 "metadata": {
  "kernelspec": {
   "display_name": "PostgreSQL",
   "language": "sql",
   "name": "postgres"
  },
  "language_info": {
   "codemirror_mode": "sql",
   "file_extension": ".sql",
   "mimetype": "text/x-postgresql",
   "name": "PostgreSQL"
  }
 },
 "nbformat": 4,
 "nbformat_minor": 4
}
