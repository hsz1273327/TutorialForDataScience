{
 "cells": [
  {
   "cell_type": "markdown",
   "metadata": {},
   "source": [
    "# 收尾\n",
    "\n",
    "SQL语言大致就介绍完了,下面是一些概念上的东西和优化技巧相关的内容."
   ]
  },
  {
   "cell_type": "markdown",
   "metadata": {},
   "source": [
    "## 关于查询优化\n",
    "\n",
    "SQL查询优化一般都还是要看各个数据库管理软件的实现,不过有一些基本的原则一般可以通用:\n",
    "\n",
    "+ 参数是子查询时使用`EXISTS`代替`IN`,使用`EXISTS`时更快的原因有两个\n",
    "\n",
    "    1. 如果连接列上建立了索引,那么查询第二张表时不用查实际的表只需查索引就可以了\n",
    "    2. 如果使用`EXISTS`那么只要查到一行数据满足条件就会终止查询.而使用`IN`时一定会扫全表\n",
    "    \n",
    "+ 参数是子查询时使用联结操作代替`IN`.联结操作没有了子查询,所以数据库也不会生成中间表,也就不会遍历全表.\n",
    "\n",
    "+ 避免排序,排序并不是只有`ORDER BY`语句会执行,其他还有一些语句隐含了排序.排序一定会扫全表所以要谨慎使用,会产生排序的语句包括:\n",
    "    \n",
    "    + `GROUP BY`子句\n",
    "    + `ORDER BY`子句\n",
    "    + 聚合函数(`SUM/COUNT/AVG/MAX/MIN`)\n",
    "    + `DISTINCT`\n",
    "    + 集合运算符(`UNION/INTERSECT/EXCEPT`)\n",
    "    + 窗口函数(`RANK/ROW_NUMBER`等)\n",
    "\n",
    "    排序如果只在内存中进行那么还好,但是如果内存不足因而需要在硬盘上排序,那么速度将会非常感人(尤其还不是ssd的话).因此需要尽量避免无谓的排序\n",
    "    \n",
    "+ 灵活使用集合运算符的`ALL`可选项.接上条,集合运算符隐含了排序操作,但如果加上`ALL`可选项则不会进行排序,因此追求性能的时候加上`ALL`\n",
    "\n",
    "+ 使用`EXISTS`代替`DISTINCT`.为了排除重复数据`DISTINCT`也会进行排序.如果需要对两张表的连接结果进行去重可以考虑使用`EXISTS`代替 `DISTINCT`以避免排序.\n",
    "\n",
    "+ 能写在 WHERE 子句里的条件不要写在 HAVING 子句里\n",
    "\n",
    "+ 合理使用索引\n",
    "\n",
    "+ 减少中间表\n",
    "\n",
    "    + 先进行连接再进行聚合\n",
    "    \n",
    "+ 合理地使用视图\n",
    "    "
   ]
  },
  {
   "cell_type": "code",
   "execution_count": null,
   "metadata": {},
   "outputs": [],
   "source": []
  },
  {
   "cell_type": "code",
   "execution_count": null,
   "metadata": {},
   "outputs": [],
   "source": []
  },
  {
   "cell_type": "markdown",
   "metadata": {},
   "source": [
    "## 关于关系模型"
   ]
  },
  {
   "cell_type": "code",
   "execution_count": null,
   "metadata": {},
   "outputs": [],
   "source": []
  },
  {
   "cell_type": "code",
   "execution_count": null,
   "metadata": {},
   "outputs": [],
   "source": []
  },
  {
   "cell_type": "code",
   "execution_count": null,
   "metadata": {},
   "outputs": [],
   "source": []
  },
  {
   "cell_type": "code",
   "execution_count": null,
   "metadata": {},
   "outputs": [],
   "source": []
  }
 ],
 "metadata": {
  "kernelspec": {
   "display_name": "PostgreSQL",
   "language": "sql",
   "name": "postgres"
  },
  "language_info": {
   "codemirror_mode": "sql",
   "file_extension": ".sql",
   "mimetype": "text/x-postgresql",
   "name": "PostgreSQL"
  }
 },
 "nbformat": 4,
 "nbformat_minor": 4
}
